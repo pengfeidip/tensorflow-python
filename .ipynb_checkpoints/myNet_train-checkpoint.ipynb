{
 "cells": [
  {
   "cell_type": "code",
   "execution_count": 1,
   "metadata": {},
   "outputs": [
    {
     "name": "stdout",
     "output_type": "stream",
     "text": [
      "importing Jupyter notebook from myNet_infer.ipynb\n"
     ]
    }
   ],
   "source": [
    "import tensorflow as tf\n",
    "import numpy as np\n",
    "import Ipynb_importer\n",
    "import myNet_infer"
   ]
  },
  {
   "cell_type": "code",
   "execution_count": 2,
   "metadata": {},
   "outputs": [],
   "source": [
    "BATCH_SIZE = 100\n",
    "\n",
    "NUM_EPOCH = 30000 #迭代次数、\n",
    "LEARNING_RATE = 0.01  # larning rate\n",
    "def train_model(mnist):\n",
    "\n",
    "    x = tf.placeholder(dtype=tf.float32, shape=[BATCH_SIZE, 28, 28, 1],name=\"input\")\n",
    "    y_predicted = myNet_infer.LeNet_inference(x)\n",
    "    y_label = tf.placeholder(dtype=tf.float32, shape=[BATCH_SIZE, 10], name=\"label\")\n",
    "\n",
    "    pred_op = tf.multiply(y_predicted, 1, name=\"pred_op\")\n",
    "    \n",
    "    \"\"\"\n",
    "    loss function and optimization \n",
    "\n",
    "    \"\"\"\n",
    "    #result = tf.multiply(y_predicted, 1, name=\"infer\")\n",
    "    loss_all = tf.nn.softmax_cross_entropy_with_logits_v2(labels=y_label, logits=y_predicted)\n",
    "    loss = tf.reduce_mean(loss_all)\n",
    "    train_op = tf.train.GradientDescentOptimizer(LEARNING_RATE).minimize(loss)\n",
    "    \n",
    "    \"\"\"设置, tf最大占用显卡内存比例, 并让gpu自主增长所需要内存: 因为tf正常会自动占有所有内存\"\"\"\n",
    "    config = tf.ConfigProto()\n",
    "    config.gpu_options.per_process_gpu_memory_fraction = 0.7  # 程序最多只能占用指定gpu50%的显存\n",
    "    config.gpu_options.allow_growth = True \n",
    "    \n",
    "    loss_list = np.array([])\n",
    "    import time\n",
    "    #saver = tf.train.Saver()\n",
    "    with tf.Session(config = config) as sess:\n",
    "        sess.run(tf.global_variables_initializer())\n",
    "        start_all = time.time()\n",
    "        \n",
    "        writer = tf.summary.FileWriter(\"D:/tensorboard\")\n",
    "        writer.add_graph(sess.graph)\n",
    "        \n",
    "        for i in range(NUM_EPOCH):\n",
    "            \n",
    "            xs,ys = mnist.train.next_batch(batch_size=BATCH_SIZE) #batch gradient descent\n",
    "            xs.shape = (BATCH_SIZE, 28, 28, 1) #reshape the input \n",
    "\n",
    "            _, loss_np = sess.run([train_op, loss], feed_dict={x:xs, y_label:ys})\n",
    "            \n",
    "            if i% 1000 == 0:\n",
    "                loss_list = np.append(loss_list,loss_np )\n",
    "                end = time.time()\n",
    "                print(\"iteration: {} / {};  loss is {}, learning rate is {} .....\".format(i, NUM_EPOCH,loss_np, LEARNING_RATE))\n",
    "                print( \"共用时: \", end - start_all)\n",
    "                #saver.save(sess, \"./model_param/model.ckpt\",global_step = i)\n",
    "\n",
    "        print(\"training is end\")\n",
    "        return"
   ]
  },
  {
   "cell_type": "code",
   "execution_count": 3,
   "metadata": {},
   "outputs": [],
   "source": [
    "def read_date():\n",
    "    from tensorflow.examples.tutorials.mnist import input_data\n",
    "    mnist = input_data.read_data_sets('./input_data', one_hot=True, validation_size=500)\n",
    "    return mnist"
   ]
  },
  {
   "cell_type": "code",
   "execution_count": 4,
   "metadata": {},
   "outputs": [
    {
     "name": "stdout",
     "output_type": "stream",
     "text": [
      "WARNING:tensorflow:From <ipython-input-3-c6b80f814b4d>:3: read_data_sets (from tensorflow.contrib.learn.python.learn.datasets.mnist) is deprecated and will be removed in a future version.\n",
      "Instructions for updating:\n",
      "Please use alternatives such as official/mnist/dataset.py from tensorflow/models.\n",
      "WARNING:tensorflow:From G:\\Anaconda\\installCatalog\\envs\\tensorflow_gpu\\lib\\site-packages\\tensorflow\\contrib\\learn\\python\\learn\\datasets\\mnist.py:260: maybe_download (from tensorflow.contrib.learn.python.learn.datasets.base) is deprecated and will be removed in a future version.\n",
      "Instructions for updating:\n",
      "Please write your own downloading logic.\n",
      "WARNING:tensorflow:From G:\\Anaconda\\installCatalog\\envs\\tensorflow_gpu\\lib\\site-packages\\tensorflow\\contrib\\learn\\python\\learn\\datasets\\mnist.py:262: extract_images (from tensorflow.contrib.learn.python.learn.datasets.mnist) is deprecated and will be removed in a future version.\n",
      "Instructions for updating:\n",
      "Please use tf.data to implement this functionality.\n",
      "Extracting ./input_data\\train-images-idx3-ubyte.gz\n",
      "WARNING:tensorflow:From G:\\Anaconda\\installCatalog\\envs\\tensorflow_gpu\\lib\\site-packages\\tensorflow\\contrib\\learn\\python\\learn\\datasets\\mnist.py:267: extract_labels (from tensorflow.contrib.learn.python.learn.datasets.mnist) is deprecated and will be removed in a future version.\n",
      "Instructions for updating:\n",
      "Please use tf.data to implement this functionality.\n",
      "Extracting ./input_data\\train-labels-idx1-ubyte.gz\n",
      "WARNING:tensorflow:From G:\\Anaconda\\installCatalog\\envs\\tensorflow_gpu\\lib\\site-packages\\tensorflow\\contrib\\learn\\python\\learn\\datasets\\mnist.py:110: dense_to_one_hot (from tensorflow.contrib.learn.python.learn.datasets.mnist) is deprecated and will be removed in a future version.\n",
      "Instructions for updating:\n",
      "Please use tf.one_hot on tensors.\n",
      "Extracting ./input_data\\t10k-images-idx3-ubyte.gz\n",
      "Extracting ./input_data\\t10k-labels-idx1-ubyte.gz\n",
      "WARNING:tensorflow:From G:\\Anaconda\\installCatalog\\envs\\tensorflow_gpu\\lib\\site-packages\\tensorflow\\contrib\\learn\\python\\learn\\datasets\\mnist.py:290: DataSet.__init__ (from tensorflow.contrib.learn.python.learn.datasets.mnist) is deprecated and will be removed in a future version.\n",
      "Instructions for updating:\n",
      "Please use alternatives such as official/mnist/dataset.py from tensorflow/models.\n",
      "iteration: 0 / 30000;  loss is 18.845069885253906, learning rate is 0.01 .....\n",
      "共用时:  1.0715291500091553\n",
      "iteration: 1000 / 30000;  loss is 0.16399027407169342, learning rate is 0.01 .....\n",
      "共用时:  6.165412187576294\n",
      "iteration: 2000 / 30000;  loss is 0.0818394348025322, learning rate is 0.01 .....\n",
      "共用时:  11.145333290100098\n",
      "iteration: 3000 / 30000;  loss is 0.06732843816280365, learning rate is 0.01 .....\n",
      "共用时:  16.1468505859375\n",
      "iteration: 4000 / 30000;  loss is 0.04107936844229698, learning rate is 0.01 .....\n",
      "共用时:  21.105470180511475\n",
      "iteration: 5000 / 30000;  loss is 0.03265014663338661, learning rate is 0.01 .....\n",
      "共用时:  26.098137617111206\n",
      "iteration: 6000 / 30000;  loss is 0.06779143959283829, learning rate is 0.01 .....\n",
      "共用时:  31.14904546737671\n",
      "iteration: 7000 / 30000;  loss is 0.02281854674220085, learning rate is 0.01 .....\n",
      "共用时:  36.12449383735657\n",
      "iteration: 8000 / 30000;  loss is 0.13753299415111542, learning rate is 0.01 .....\n",
      "共用时:  41.17829704284668\n",
      "iteration: 9000 / 30000;  loss is 0.032529205083847046, learning rate is 0.01 .....\n",
      "共用时:  46.189247131347656\n",
      "iteration: 10000 / 30000;  loss is 0.05886946991086006, learning rate is 0.01 .....\n",
      "共用时:  51.05424380302429\n",
      "iteration: 11000 / 30000;  loss is 0.004643334075808525, learning rate is 0.01 .....\n",
      "共用时:  56.115283489227295\n",
      "iteration: 12000 / 30000;  loss is 0.029531804844737053, learning rate is 0.01 .....\n",
      "共用时:  61.14666724205017\n",
      "iteration: 13000 / 30000;  loss is 0.02050880901515484, learning rate is 0.01 .....\n",
      "共用时:  66.0792305469513\n",
      "iteration: 14000 / 30000;  loss is 0.011741016991436481, learning rate is 0.01 .....\n",
      "共用时:  71.14180064201355\n",
      "iteration: 15000 / 30000;  loss is 0.007406856864690781, learning rate is 0.01 .....\n",
      "共用时:  76.21184253692627\n",
      "iteration: 16000 / 30000;  loss is 0.082402803003788, learning rate is 0.01 .....\n",
      "共用时:  81.2558844089508\n",
      "iteration: 17000 / 30000;  loss is 0.01934325136244297, learning rate is 0.01 .....\n",
      "共用时:  86.34554028511047\n",
      "iteration: 18000 / 30000;  loss is 0.014509445056319237, learning rate is 0.01 .....\n",
      "共用时:  91.47249341011047\n",
      "iteration: 19000 / 30000;  loss is 0.03215101361274719, learning rate is 0.01 .....\n",
      "共用时:  96.37075638771057\n",
      "iteration: 20000 / 30000;  loss is 0.0035515641793608665, learning rate is 0.01 .....\n",
      "共用时:  101.51340222358704\n",
      "iteration: 21000 / 30000;  loss is 0.02852926030755043, learning rate is 0.01 .....\n",
      "共用时:  106.55023455619812\n",
      "iteration: 22000 / 30000;  loss is 0.03606890141963959, learning rate is 0.01 .....\n",
      "共用时:  111.50317692756653\n",
      "iteration: 23000 / 30000;  loss is 0.016671068966388702, learning rate is 0.01 .....\n",
      "共用时:  116.59320712089539\n",
      "iteration: 24000 / 30000;  loss is 0.05529092252254486, learning rate is 0.01 .....\n",
      "共用时:  121.65561294555664\n",
      "iteration: 25000 / 30000;  loss is 0.011959291994571686, learning rate is 0.01 .....\n",
      "共用时:  126.74335551261902\n",
      "iteration: 26000 / 30000;  loss is 0.017244447022676468, learning rate is 0.01 .....\n",
      "共用时:  131.68770289421082\n",
      "iteration: 27000 / 30000;  loss is 0.008685766719281673, learning rate is 0.01 .....\n",
      "共用时:  136.7915906906128\n",
      "iteration: 28000 / 30000;  loss is 0.010944098234176636, learning rate is 0.01 .....\n",
      "共用时:  141.84627532958984\n",
      "iteration: 29000 / 30000;  loss is 0.040741898119449615, learning rate is 0.01 .....\n",
      "共用时:  146.91964721679688\n",
      "training is end\n"
     ]
    },
    {
     "ename": "SystemExit",
     "evalue": "",
     "output_type": "error",
     "traceback": [
      "An exception has occurred, use %tb to see the full traceback.\n",
      "\u001b[1;31mSystemExit\u001b[0m\n"
     ]
    },
    {
     "name": "stderr",
     "output_type": "stream",
     "text": [
      "G:\\Anaconda\\installCatalog\\envs\\tensorflow_gpu\\lib\\site-packages\\IPython\\core\\interactiveshell.py:2969: UserWarning: To exit: use 'exit', 'quit', or Ctrl-D.\n",
      "  warn(\"To exit: use 'exit', 'quit', or Ctrl-D.\", stacklevel=1)\n"
     ]
    }
   ],
   "source": [
    "def main(argv = None):\n",
    "    mnist = read_date()\n",
    "    train_model(mnist)\n",
    "\n",
    "if __name__ == \"__main__\":\n",
    "    tf.app.run()"
   ]
  },
  {
   "cell_type": "code",
   "execution_count": null,
   "metadata": {},
   "outputs": [],
   "source": []
  },
  {
   "cell_type": "code",
   "execution_count": null,
   "metadata": {},
   "outputs": [],
   "source": []
  },
  {
   "cell_type": "code",
   "execution_count": null,
   "metadata": {},
   "outputs": [],
   "source": []
  },
  {
   "cell_type": "code",
   "execution_count": null,
   "metadata": {},
   "outputs": [],
   "source": []
  }
 ],
 "metadata": {
  "kernelspec": {
   "display_name": "Python 3",
   "language": "python",
   "name": "python3"
  },
  "language_info": {
   "codemirror_mode": {
    "name": "ipython",
    "version": 3
   },
   "file_extension": ".py",
   "mimetype": "text/x-python",
   "name": "python",
   "nbconvert_exporter": "python",
   "pygments_lexer": "ipython3",
   "version": "3.6.6"
  },
  "toc": {
   "base_numbering": 1,
   "nav_menu": {},
   "number_sections": true,
   "sideBar": true,
   "skip_h1_title": false,
   "title_cell": "Table of Contents",
   "title_sidebar": "Contents",
   "toc_cell": false,
   "toc_position": {},
   "toc_section_display": true,
   "toc_window_display": false
  }
 },
 "nbformat": 4,
 "nbformat_minor": 2
}
