{
 "cells": [
  {
   "cell_type": "markdown",
   "metadata": {},
   "source": [
    "前言:本文件是实验记录, 记录对**myNet**的改进,在MNIST上的效果(55,000 training set, 10,000 test set, 500 validation)"
   ]
  },
  {
   "cell_type": "markdown",
   "metadata": {},
   "source": [
    "一:original setting : $\\color{Red}{\\text{10.55% }}$accuracy in test-set  \n",
    "    - average pooling ; \n",
    "    - 50,000 iterations, 1 iteration means 1 batch; 100 samples per batch\n",
    "    - learning rate: 0.001 \n"
   ]
  },
  {
   "cell_type": "markdown",
   "metadata": {},
   "source": [
    "二: modified version 1: $\\color{Red}{\\text{10.17%}}$ accuracy in test set;    $\\color{Blue}{\\text{10.43%}}$  in training set\n",
    "    - max pooling\n",
    "    - 30,000 iteration\n",
    "    - learing rate: 0.001\n",
    "![loss](./aa.png)\n",
    "结论: 效果很差, loss基本不收敛, 在 test 和training上的准确率都很低,网络结构有问题"
   ]
  },
  {
   "cell_type": "code",
   "execution_count": null,
   "metadata": {
    "collapsed": true
   },
   "outputs": [],
   "source": []
  },
  {
   "cell_type": "code",
   "execution_count": null,
   "metadata": {
    "collapsed": true
   },
   "outputs": [],
   "source": []
  },
  {
   "cell_type": "code",
   "execution_count": null,
   "metadata": {
    "collapsed": true
   },
   "outputs": [],
   "source": []
  }
 ],
 "metadata": {
  "kernelspec": {
   "display_name": "Python 3",
   "language": "python",
   "name": "python3"
  },
  "language_info": {
   "codemirror_mode": {
    "name": "ipython",
    "version": 3
   },
   "file_extension": ".py",
   "mimetype": "text/x-python",
   "name": "python",
   "nbconvert_exporter": "python",
   "pygments_lexer": "ipython3",
   "version": "3.6.6"
  },
  "toc": {
   "base_numbering": 1,
   "nav_menu": {},
   "number_sections": true,
   "sideBar": true,
   "skip_h1_title": false,
   "title_cell": "Table of Contents",
   "title_sidebar": "Contents",
   "toc_cell": false,
   "toc_position": {},
   "toc_section_display": true,
   "toc_window_display": false
  }
 },
 "nbformat": 4,
 "nbformat_minor": 2
}
