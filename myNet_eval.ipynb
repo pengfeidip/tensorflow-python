{
 "cells": [
  {
   "cell_type": "markdown",
   "metadata": {},
   "source": [
    "简介: 利用重新定义网络的方法来测试训练好的model"
   ]
  },
  {
   "cell_type": "markdown",
   "metadata": {},
   "source": [
    "# 准备工作"
   ]
  },
  {
   "cell_type": "code",
   "execution_count": null,
   "metadata": {},
   "outputs": [],
   "source": [
    "import tensorflow as tf\n",
    "import numpy as np\n",
    "import Ipynb_importer\n",
    "import myNet_infer\n",
    "import myNet_train"
   ]
  },
  {
   "cell_type": "markdown",
   "metadata": {},
   "source": [
    "读入训练数据"
   ]
  },
  {
   "cell_type": "code",
   "execution_count": null,
   "metadata": {},
   "outputs": [],
   "source": [
    "\"\"\"读入，待测试的数据\"\"\"\n",
    "mnist = myNet_train.read_date();\\\n",
    "input_x = np.reshape(mnist.train.images, (mnist.train.num_examples, 28, 28, 1))\n",
    "label = mnist.train.labels"
   ]
  },
  {
   "cell_type": "markdown",
   "metadata": {
    "collapsed": true
   },
   "source": [
    "定义数据集评价方法"
   ]
  },
  {
   "cell_type": "code",
   "execution_count": null,
   "metadata": {},
   "outputs": [],
   "source": [
    "numTest = mnist.train.num_examples\n",
    "x = tf.placeholder(tf.float32, shape=[100, 28, 28 ,1], name=\"x_input\")\n",
    "y_label = tf.placeholder(tf.float32, shape = [100, 10], name=\"y_label\")\n",
    "\n",
    "y_pred = myNet_infer.LeNet_inference(x);\n",
    "\n",
    "correct_prediction = tf.equal(tf.argmax(y_label, 1), tf.argmax(y_pred, 1))\n",
    "accuracy = tf.reduce_sum(tf.cast(correct_prediction, tf.int32)) \n"
   ]
  },
  {
   "cell_type": "markdown",
   "metadata": {},
   "source": [
    "# 在训练集上 评价训练好的模型(验证是否high bias)"
   ]
  },
  {
   "cell_type": "code",
   "execution_count": null,
   "metadata": {},
   "outputs": [],
   "source": [
    "config = tf.ConfigProto()\n",
    "config.gpu_options.per_process_gpu_memory_fraction = 0.7  # 程序最多只能占用指定gpu70%的显存\n",
    "config.gpu_options.allow_growth = True \n",
    "all_correct = 0\n",
    "with tf.Session(config=config) as sess:\n",
    "    saver = tf.train.Saver()\n",
    "    #saver = tf.train.import_meta_graph('./model_param/model.ckpt-1001.meta') #加载图\"\"\"\n",
    "    #saver.restore(sess, \"./model_param/model.ckpt-1001\") # 恢复遍历, 注意这里没有文件后缀\n",
    "    ckpt = tf.train.get_checkpoint_state(\"model_param/\")\n",
    "    print(\"name of used model: \", ckpt.model_checkpoint_path)\n",
    "    print(\"\\n\")\n",
    "    if ckpt and ckpt.model_checkpoint_path:\n",
    "        # load model\n",
    "        saver.restore(sess, ckpt.model_checkpoint_path)\n",
    "        for i in range(595):\n",
    "            num_correct = sess.run(accuracy,feed_dict={x:input_x[i*100:(i+1)*100,:,:,:], y_label:label[i*100:(i+1)*100, :]}) \n",
    "            all_correct += num_correct\n",
    "        print(all_correct, all_correct/mnist.train.num_examples)\n",
    "    else:\n",
    "        print(\"no model or can not find model\")"
   ]
  },
  {
   "cell_type": "markdown",
   "metadata": {},
   "source": [
    "# 在测试集上, 评价模型(验证是否high variance)"
   ]
  },
  {
   "cell_type": "code",
   "execution_count": null,
   "metadata": {},
   "outputs": [],
   "source": [
    "test_x = np.reshape(mnist.test.images, (mnist.test.num_examples, 28, 28, 1))\n",
    "test_label = mnist.test.labels\n",
    "\n",
    "all_correct = 0\n",
    "with tf.Session(config=config) as sess:\n",
    "    saver = tf.train.Saver()\n",
    "    #saver = tf.train.import_meta_graph('./model_param/model.ckpt-1001.meta') #加载图\"\"\"\n",
    "    #saver.restore(sess, \"./model_param/model.ckpt-1001\") # 恢复遍历, 注意这里没有文件后缀\n",
    "    ckpt = tf.train.get_checkpoint_state(\"model_param_1/\")\n",
    "    print(\"name of used model\", ckpt.model_checkpoint_path)\n",
    "    if ckpt and ckpt.model_checkpoint_path:\n",
    "        # load model\n",
    "        saver.restore(sess, ckpt.model_checkpoint_path)\n",
    "        for i in range(100):\n",
    "            num_correct = sess.run(accuracy,feed_dict={x:test_x[i*100:(i+1)*100,:,:,:], y_label:test_label[i*100:(i+1)*100, :]}) \n",
    "            all_correct += num_correct\n",
    "        print(all_correct, all_correct/mnist.test.num_examples)\n",
    "    else:\n",
    "        print(\"no model or can not find model\", )"
   ]
  }
 ],
 "metadata": {
  "kernelspec": {
   "display_name": "Python 3",
   "language": "python",
   "name": "python3"
  },
  "language_info": {
   "codemirror_mode": {
    "name": "ipython",
    "version": 3
   },
   "file_extension": ".py",
   "mimetype": "text/x-python",
   "name": "python",
   "nbconvert_exporter": "python",
   "pygments_lexer": "ipython3",
   "version": "3.6.6"
  },
  "toc": {
   "base_numbering": 1,
   "nav_menu": {},
   "number_sections": true,
   "sideBar": true,
   "skip_h1_title": false,
   "title_cell": "Table of Contents",
   "title_sidebar": "Contents",
   "toc_cell": false,
   "toc_position": {},
   "toc_section_display": true,
   "toc_window_display": false
  }
 },
 "nbformat": 4,
 "nbformat_minor": 2
}
