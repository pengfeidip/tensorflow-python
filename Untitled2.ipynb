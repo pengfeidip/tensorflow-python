{
 "cells": [
  {
   "cell_type": "code",
   "execution_count": 40,
   "metadata": {
    "collapsed": true
   },
   "outputs": [],
   "source": [
    "import numpy as np \n",
    "import tensorflow as tf"
   ]
  },
  {
   "cell_type": "code",
   "execution_count": 37,
   "metadata": {},
   "outputs": [],
   "source": [
    "x = tf.placeholder(dtype=tf.float32, shape=None, name = \"x\")\n",
    "y = tf.placeholder(dtype=tf.float32, shape=None, name = \"y\")\n",
    "\n",
    "w = tf.Variable(tf.truncated_normal([1],dtype=tf.float32))\n",
    "b = tf.Variable(tf.truncated_normal([1],dtype=tf.float32))\n",
    "\n",
    "y_predicted = w*x + b\n",
    "\n",
    "\n",
    "def huber_loss(labels, predictions, delta = 14.0):   \n",
    "    residual = tf.abs(labels - predictions)\n",
    "    return tf.cond(residual.eval() < delta, lambda: 0.5*tf.square(residual), lambda:delta*residual - 0.5*tf.square(delta))\n",
    "\n",
    "\n",
    "loss = huber_loss(y, y_predicted)"
   ]
  },
  {
   "cell_type": "code",
   "execution_count": 49,
   "metadata": {},
   "outputs": [
    {
     "name": "stdout",
     "output_type": "stream",
     "text": [
      "1.00194\n"
     ]
    },
    {
     "data": {
      "text/plain": [
       "'\\n1.00194\\n'"
      ]
     },
     "execution_count": 49,
     "metadata": {},
     "output_type": "execute_result"
    }
   ],
   "source": [
    "\n",
    "def softmax(logits):\n",
    "    return np.exp(logits)/np.sum(np.exp(logits))\n",
    "\n",
    "def cross_entropy(label, prediction_softmax):\n",
    "    result = np.sum(-1*np.log(prediction_softmax)*label)\n",
    "    return result\n",
    "\n",
    "prediction = np.array([[0.1, 0.2, 0.3]], dtype=np.float32)\n",
    "label = np.array([[0, 0, 1]],dtype=np.float32)\n",
    "c = cross_entropy(label, softmax(prediction))\n",
    "print(c)\n",
    "\"\"\"\n",
    "1.00194\n",
    "\"\"\""
   ]
  },
  {
   "cell_type": "code",
   "execution_count": 44,
   "metadata": {},
   "outputs": [
    {
     "data": {
      "text/plain": [
       "array([ 0.86753663])"
      ]
     },
     "execution_count": 44,
     "metadata": {},
     "output_type": "execute_result"
    }
   ],
   "source": [
    "np.random.rand(1)"
   ]
  },
  {
   "cell_type": "code",
   "execution_count": 1,
   "metadata": {},
   "outputs": [
    {
     "name": "stdout",
     "output_type": "stream",
     "text": [
      "Help on built-in function id in module builtins:\n",
      "\n",
      "id(obj, /)\n",
      "    Return the identity of an object.\n",
      "    \n",
      "    This is guaranteed to be unique among simultaneously existing objects.\n",
      "    (CPython uses the object's memory address.)\n",
      "\n"
     ]
    }
   ],
   "source": []
  }
 ],
 "metadata": {
  "kernelspec": {
   "display_name": "Python 3",
   "language": "python",
   "name": "python3"
  },
  "language_info": {
   "codemirror_mode": {
    "name": "ipython",
    "version": 3
   },
   "file_extension": ".py",
   "mimetype": "text/x-python",
   "name": "python",
   "nbconvert_exporter": "python",
   "pygments_lexer": "ipython3",
   "version": "3.6.1"
  },
  "toc": {
   "base_numbering": 1,
   "nav_menu": {},
   "number_sections": true,
   "sideBar": true,
   "skip_h1_title": false,
   "title_cell": "Table of Contents",
   "title_sidebar": "Contents",
   "toc_cell": false,
   "toc_position": {},
   "toc_section_display": true,
   "toc_window_display": false
  }
 },
 "nbformat": 4,
 "nbformat_minor": 2
}
