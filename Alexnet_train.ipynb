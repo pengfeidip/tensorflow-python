{
 "cells": [
  {
   "cell_type": "code",
   "execution_count": 1,
   "metadata": {},
   "outputs": [],
   "source": [
    "import tensorflow as tf\n",
    "import numpy as np\n",
    "import Ipynb_importer\n"
   ]
  },
  {
   "cell_type": "code",
   "execution_count": 2,
   "metadata": {},
   "outputs": [
    {
     "name": "stdout",
     "output_type": "stream",
     "text": [
      "importing Jupyter notebook from test_infer.ipynb\n"
     ]
    }
   ],
   "source": [
    "import test_infer"
   ]
  },
  {
   "cell_type": "code",
   "execution_count": 3,
   "metadata": {},
   "outputs": [],
   "source": [
    "\n",
    "a = np.random.randn(100, 224, 224, 3)\n",
    "b= a.astype(np.float32)\n",
    "result = test_infer.Alexnet_infer(b)"
   ]
  },
  {
   "cell_type": "markdown",
   "metadata": {},
   "source": [
    "设置训练相关内容:  \n",
    "1. 输入,输出  \n",
    "2. gradient descent  \n",
    "3. loss function\n"
   ]
  },
  {
   "cell_type": "code",
   "execution_count": 4,
   "metadata": {},
   "outputs": [],
   "source": [
    "LEARN_RATE = 0.01\n",
    "BETA_M = 0.9 # for momentum beta\n",
    "BETA_R = 0.999 # for RMSprop beta\n",
    "EPSILON = 1e-8\n",
    "BATCH_SIZE = 100;\n",
    "x_input = tf.placeholder(tf.float32, shape = [BATCH_SIZE, 224, 224, 3], name = \"input\")\n",
    "y_label = tf.placeholder(tf.float32, shape = [BATCH_SIZE, 1000], name = \"label\")\n",
    "\n"
   ]
  },
  {
   "cell_type": "code",
   "execution_count": 7,
   "metadata": {},
   "outputs": [],
   "source": [
    "y_pred = test_infer.Alexnet_infer(x_input, train_flag = True, regularizer_flag = True)\n",
    "pred_op = tf.multiply(y_pred, 1, name = \"pred_op\")"
   ]
  },
  {
   "cell_type": "code",
   "execution_count": 8,
   "metadata": {},
   "outputs": [],
   "source": [
    "\"\"\"loss function\"\"\"\n",
    "loss = tf.nn.softmax_cross_entropy_with_logits_v2(logits=y_pred, labels=y_label,name = \"all_loss\")\n",
    "loss = tf.reduce_mean(loss, name=\"mean_loss\")\n",
    "\n",
    "\"\"\" train with Adam optimizer\"\"\"\n",
    "train_op = tf.train.AdamOptimizer(learning_rate = LEARN_RATE, beta1 = BETA_M, beta2 = BETA_R, epsilon = EPSILON).minimize(loss)"
   ]
  },
  {
   "cell_type": "code",
   "execution_count": 9,
   "metadata": {},
   "outputs": [
    {
     "name": "stdout",
     "output_type": "stream",
     "text": [
      "(100, 1000)\n"
     ]
    }
   ],
   "source": [
    "config = tf.ConfigProto()\n",
    "config.gpu_options.per_process_gpu_memory_fraction = 0.7  # 程序最多只能占用指定gpu50%的显存\n",
    "config.gpu_options.allow_growth = True #同时, 允许占用GPU足够的程序\n",
    "\n",
    "with tf.Session() as sess:  \n",
    "    sess.run(tf.global_variables_initializer())\n",
    "    print(np.shape(sess.run(result)))"
   ]
  },
  {
   "cell_type": "code",
   "execution_count": 1,
   "metadata": {},
   "outputs": [
    {
     "name": "stdout",
     "output_type": "stream",
     "text": [
      "1e-08\n"
     ]
    }
   ],
   "source": []
  }
 ],
 "metadata": {
  "kernelspec": {
   "display_name": "Python 3",
   "language": "python",
   "name": "python3"
  },
  "language_info": {
   "codemirror_mode": {
    "name": "ipython",
    "version": 3
   },
   "file_extension": ".py",
   "mimetype": "text/x-python",
   "name": "python",
   "nbconvert_exporter": "python",
   "pygments_lexer": "ipython3",
   "version": "3.6.6"
  },
  "toc": {
   "base_numbering": 1,
   "nav_menu": {},
   "number_sections": true,
   "sideBar": true,
   "skip_h1_title": false,
   "title_cell": "Table of Contents",
   "title_sidebar": "Contents",
   "toc_cell": false,
   "toc_position": {},
   "toc_section_display": true,
   "toc_window_display": false
  }
 },
 "nbformat": 4,
 "nbformat_minor": 2
}
