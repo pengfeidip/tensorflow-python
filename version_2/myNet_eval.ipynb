{
 "cells": [
  {
   "cell_type": "code",
   "execution_count": 2,
   "metadata": {},
   "outputs": [
    {
     "name": "stdout",
     "output_type": "stream",
     "text": [
      "importing Jupyter notebook from myNet_infer_1.ipynb\n",
      "importing Jupyter notebook from myNet_train.ipynb\n"
     ]
    }
   ],
   "source": [
    "import tensorflow as tf\n",
    "import numpy as np\n",
    "import Ipynb_importer\n",
    "import myNet_infer_1\n",
    "import myNet_train"
   ]
  },
  {
   "cell_type": "code",
   "execution_count": 9,
   "metadata": {},
   "outputs": [],
   "source": [
    "MODEL_PATH = \"model_param_1\""
   ]
  },
  {
   "cell_type": "code",
   "execution_count": 3,
   "metadata": {},
   "outputs": [
    {
     "name": "stdout",
     "output_type": "stream",
     "text": [
      "WARNING:tensorflow:From <string>:3: read_data_sets (from tensorflow.contrib.learn.python.learn.datasets.mnist) is deprecated and will be removed in a future version.\n",
      "Instructions for updating:\n",
      "Please use alternatives such as official/mnist/dataset.py from tensorflow/models.\n",
      "WARNING:tensorflow:From G:\\Anaconda\\installCatalog\\envs\\tensorflow_gpu\\lib\\site-packages\\tensorflow\\contrib\\learn\\python\\learn\\datasets\\mnist.py:260: maybe_download (from tensorflow.contrib.learn.python.learn.datasets.base) is deprecated and will be removed in a future version.\n",
      "Instructions for updating:\n",
      "Please write your own downloading logic.\n",
      "WARNING:tensorflow:From G:\\Anaconda\\installCatalog\\envs\\tensorflow_gpu\\lib\\site-packages\\tensorflow\\contrib\\learn\\python\\learn\\datasets\\mnist.py:262: extract_images (from tensorflow.contrib.learn.python.learn.datasets.mnist) is deprecated and will be removed in a future version.\n",
      "Instructions for updating:\n",
      "Please use tf.data to implement this functionality.\n",
      "Extracting ./input_data\\train-images-idx3-ubyte.gz\n",
      "WARNING:tensorflow:From G:\\Anaconda\\installCatalog\\envs\\tensorflow_gpu\\lib\\site-packages\\tensorflow\\contrib\\learn\\python\\learn\\datasets\\mnist.py:267: extract_labels (from tensorflow.contrib.learn.python.learn.datasets.mnist) is deprecated and will be removed in a future version.\n",
      "Instructions for updating:\n",
      "Please use tf.data to implement this functionality.\n",
      "Extracting ./input_data\\train-labels-idx1-ubyte.gz\n",
      "WARNING:tensorflow:From G:\\Anaconda\\installCatalog\\envs\\tensorflow_gpu\\lib\\site-packages\\tensorflow\\contrib\\learn\\python\\learn\\datasets\\mnist.py:110: dense_to_one_hot (from tensorflow.contrib.learn.python.learn.datasets.mnist) is deprecated and will be removed in a future version.\n",
      "Instructions for updating:\n",
      "Please use tf.one_hot on tensors.\n",
      "Extracting ./input_data\\t10k-images-idx3-ubyte.gz\n",
      "Extracting ./input_data\\t10k-labels-idx1-ubyte.gz\n",
      "WARNING:tensorflow:From G:\\Anaconda\\installCatalog\\envs\\tensorflow_gpu\\lib\\site-packages\\tensorflow\\contrib\\learn\\python\\learn\\datasets\\mnist.py:290: DataSet.__init__ (from tensorflow.contrib.learn.python.learn.datasets.mnist) is deprecated and will be removed in a future version.\n",
      "Instructions for updating:\n",
      "Please use alternatives such as official/mnist/dataset.py from tensorflow/models.\n"
     ]
    }
   ],
   "source": [
    "\"\"\"读入，待测试的数据\"\"\"\n",
    "mnist = myNet_train.read_date()\n",
    "input_x = np.reshape(mnist.train.images, (mnist.train.num_examples, 28, 28, 1))\n",
    "label = mnist.train.labels"
   ]
  },
  {
   "cell_type": "markdown",
   "metadata": {
    "collapsed": true
   },
   "source": [
    "定义accuracy的计算方式"
   ]
  },
  {
   "cell_type": "code",
   "execution_count": 4,
   "metadata": {},
   "outputs": [],
   "source": [
    "numTest = mnist.train.num_examples\n",
    "x = tf.placeholder(tf.float32, shape=[100, 28, 28 ,1], name=\"x_input\")\n",
    "y_label = tf.placeholder(tf.float32, shape = [100, 10], name=\"y_label\")\n",
    "\n",
    "y_pred = myNet_infer_1.LeNet_inference(x);\n"
   ]
  },
  {
   "cell_type": "markdown",
   "metadata": {},
   "source": []
  },
  {
   "cell_type": "code",
   "execution_count": 5,
   "metadata": {},
   "outputs": [],
   "source": [
    "correct_prediction = tf.equal(tf.argmax(y_label, 1), tf.argmax(y_pred, 1))\n",
    "accuracy = tf.reduce_sum(tf.cast(correct_prediction, tf.int32)) \n",
    "\n",
    "\"\"\"set the maximum of GPU memory\"\"\"\n",
    "config = tf.ConfigProto()\n",
    "config.gpu_options.per_process_gpu_memory_fraction = 0.7  # 程序最多只能占用指定gpu50%的显存\n",
    "config.gpu_options.allow_growth = True "
   ]
  },
  {
   "cell_type": "code",
   "execution_count": 10,
   "metadata": {},
   "outputs": [
    {
     "name": "stdout",
     "output_type": "stream",
     "text": [
      "name of used model model_param_1\\model.ckpt-29500\n",
      "INFO:tensorflow:Restoring parameters from model_param_1\\model.ckpt-29500\n",
      "total correct classification :  1118 accuracy:  0.018789915966386555\n"
     ]
    }
   ],
   "source": [
    "\"\"\" accuracy in training set\"\"\"\n",
    "all_correct = 0\n",
    "with tf.Session(config=config) as sess:\n",
    "    saver = tf.train.Saver()\n",
    "    #saver = tf.train.import_meta_graph('./model_param/model.ckpt-1001.meta') #加载图\"\"\"\n",
    "    #saver.restore(sess, \"./model_param/model.ckpt-1001\") # 恢复遍历, 注意这里没有文件后缀\n",
    "    ckpt = tf.train.get_checkpoint_state(MODEL_PATH)\n",
    "    print(\"name of used model\", ckpt.model_checkpoint_path)\n",
    "    if ckpt and ckpt.model_checkpoint_path:\n",
    "        # load model\n",
    "        saver.restore(sess, ckpt.model_checkpoint_path)\n",
    "        for i in range(100):\n",
    "            num_correct = sess.run(accuracy,feed_dict={x:input_x[i*100:(i+1)*100,:,:,:], y_label:label[i*100:(i+1)*100, :]}) \n",
    "            all_correct += num_correct\n",
    "        print(\"total correct classification : \", all_correct, \"accuracy: \", all_correct/mnist.train.num_examples)\n",
    "    else:\n",
    "        print(\"no model or can not find model\")"
   ]
  },
  {
   "cell_type": "code",
   "execution_count": 11,
   "metadata": {},
   "outputs": [
    {
     "name": "stdout",
     "output_type": "stream",
     "text": [
      "name of used model model_param_1\\model.ckpt-29500\n",
      "INFO:tensorflow:Restoring parameters from model_param_1\\model.ckpt-29500\n",
      "total correct classification :  1135 accuracy:  0.1135\n"
     ]
    }
   ],
   "source": [
    "\"\"\" accuracy in test set\"\"\"\n",
    "test_x = np.reshape(mnist.test.images, (mnist.test.num_examples, 28, 28, 1))\n",
    "test_label = mnist.test.labels\n",
    "\n",
    "all_correct = 0\n",
    "with tf.Session(config=config) as sess:\n",
    "    saver = tf.train.Saver()\n",
    "    #saver = tf.train.import_meta_graph('./model_param/model.ckpt-1001.meta') #加载图\"\"\"\n",
    "    #saver.restore(sess, \"./model_param/model.ckpt-1001\") # 恢复遍历, 注意这里没有文件后缀\n",
    "    ckpt = tf.train.get_checkpoint_state(MODEL_PATH)\n",
    "    print(\"name of used model\", ckpt.model_checkpoint_path)\n",
    "    if ckpt and ckpt.model_checkpoint_path:\n",
    "        # load model\n",
    "        saver.restore(sess, ckpt.model_checkpoint_path)\n",
    "        for i in range(100):\n",
    "            num_correct = sess.run(accuracy,feed_dict={x:test_x[i*100:(i+1)*100,:,:,:], y_label:test_label[i*100:(i+1)*100, :]}) \n",
    "            all_correct += num_correct\n",
    "        print(\"total correct classification : \", all_correct, \"accuracy: \", all_correct/mnist.test.num_examples)\n",
    "    else:\n",
    "        print(\"no model or can not find model\")"
   ]
  },
  {
   "cell_type": "code",
   "execution_count": 28,
   "metadata": {},
   "outputs": [
    {
     "data": {
      "text/plain": [
       "0.09746218487394959"
      ]
     },
     "execution_count": 28,
     "metadata": {},
     "output_type": "execute_result"
    }
   ],
   "source": [
    "5799/59500"
   ]
  },
  {
   "cell_type": "code",
   "execution_count": null,
   "metadata": {},
   "outputs": [],
   "source": []
  },
  {
   "cell_type": "code",
   "execution_count": 13,
   "metadata": {},
   "outputs": [
    {
     "data": {
      "text/plain": [
       "0.09746218487394959"
      ]
     },
     "execution_count": 13,
     "metadata": {},
     "output_type": "execute_result"
    }
   ],
   "source": [
    "5799/59500"
   ]
  },
  {
   "cell_type": "code",
   "execution_count": 15,
   "metadata": {},
   "outputs": [
    {
     "data": {
      "text/plain": [
       "1"
      ]
     },
     "execution_count": 15,
     "metadata": {},
     "output_type": "execute_result"
    }
   ],
   "source": [
    "mnist.test.epochs_completed "
   ]
  },
  {
   "cell_type": "code",
   "execution_count": 18,
   "metadata": {},
   "outputs": [
    {
     "data": {
      "text/plain": [
       "array([[ True,  True,  True, ...,  True,  True,  True],\n",
       "       [ True,  True,  True, ...,  True,  True,  True],\n",
       "       [ True,  True,  True, ...,  True,  True,  True],\n",
       "       ...,\n",
       "       [ True,  True,  True, ...,  True,  True,  True],\n",
       "       [ True,  True,  True, ...,  True,  True,  True],\n",
       "       [ True,  True,  True, ...,  True,  True,  True]])"
      ]
     },
     "execution_count": 18,
     "metadata": {},
     "output_type": "execute_result"
    }
   ],
   "source": [
    "b_1,_ = mnist.test.next_batch(100)\n",
    "b_2,_ = mnist.test.next_batch(100)\n",
    "b_1 == b_2"
   ]
  },
  {
   "cell_type": "code",
   "execution_count": 19,
   "metadata": {},
   "outputs": [
    {
     "data": {
      "text/plain": [
       "(100, 784)"
      ]
     },
     "execution_count": 19,
     "metadata": {},
     "output_type": "execute_result"
    }
   ],
   "source": [
    "np.shape(b_1)"
   ]
  },
  {
   "cell_type": "code",
   "execution_count": 20,
   "metadata": {},
   "outputs": [],
   "source": [
    "a = (b_1[1, :] == b_2[1, :])"
   ]
  },
  {
   "cell_type": "code",
   "execution_count": null,
   "metadata": {},
   "outputs": [],
   "source": []
  },
  {
   "cell_type": "code",
   "execution_count": 23,
   "metadata": {},
   "outputs": [
    {
     "ename": "TypeError",
     "evalue": "'_typedict' object is not callable",
     "output_type": "error",
     "traceback": [
      "\u001b[1;31m---------------------------------------------------------------------------\u001b[0m",
      "\u001b[1;31mTypeError\u001b[0m                                 Traceback (most recent call last)",
      "\u001b[1;32m<ipython-input-23-43cfbf6ea84d>\u001b[0m in \u001b[0;36m<module>\u001b[1;34m()\u001b[0m\n\u001b[1;32m----> 1\u001b[1;33m \u001b[0ma\u001b[0m \u001b[1;33m=\u001b[0m \u001b[0mnp\u001b[0m\u001b[1;33m.\u001b[0m\u001b[0mcast\u001b[0m\u001b[1;33m(\u001b[0m\u001b[0ma\u001b[0m\u001b[1;33m,\u001b[0m \u001b[0mnp\u001b[0m\u001b[1;33m.\u001b[0m\u001b[0mint32\u001b[0m\u001b[1;33m)\u001b[0m\u001b[1;33m\u001b[0m\u001b[0m\n\u001b[0m",
      "\u001b[1;31mTypeError\u001b[0m: '_typedict' object is not callable"
     ]
    }
   ],
   "source": [
    "a = np.cast(a, np.int32)"
   ]
  },
  {
   "cell_type": "code",
   "execution_count": 1,
   "metadata": {},
   "outputs": [
    {
     "data": {
      "text/plain": [
       "0.999563025210084"
      ]
     },
     "execution_count": 1,
     "metadata": {},
     "output_type": "execute_result"
    }
   ],
   "source": [
    "59474/59500"
   ]
  },
  {
   "cell_type": "code",
   "execution_count": null,
   "metadata": {},
   "outputs": [],
   "source": []
  }
 ],
 "metadata": {
  "kernelspec": {
   "display_name": "Python 3",
   "language": "python",
   "name": "python3"
  },
  "language_info": {
   "codemirror_mode": {
    "name": "ipython",
    "version": 3
   },
   "file_extension": ".py",
   "mimetype": "text/x-python",
   "name": "python",
   "nbconvert_exporter": "python",
   "pygments_lexer": "ipython3",
   "version": "3.6.6"
  },
  "toc": {
   "base_numbering": 1,
   "nav_menu": {},
   "number_sections": true,
   "sideBar": true,
   "skip_h1_title": false,
   "title_cell": "Table of Contents",
   "title_sidebar": "Contents",
   "toc_cell": false,
   "toc_position": {},
   "toc_section_display": true,
   "toc_window_display": false
  }
 },
 "nbformat": 4,
 "nbformat_minor": 2
}
