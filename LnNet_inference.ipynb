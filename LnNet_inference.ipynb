{
 "cells": [
  {
   "cell_type": "code",
   "execution_count": 1,
   "metadata": {
    "collapsed": true
   },
   "outputs": [],
   "source": [
    "import tensorflow as tf "
   ]
  },
  {
   "cell_type": "markdown",
   "metadata": {},
   "source": [
    "# 下面是设定神经网络相关参数"
   ]
  },
  {
   "cell_type": "code",
   "execution_count": 2,
   "metadata": {
    "collapsed": true
   },
   "outputs": [],
   "source": [
    "\"\"\"\n",
    "# 输入层有关参数\n",
    "\"\"\"\n",
    "INPUT_NODE = 784\n",
    "OUTPUT_NODE = 10\n",
    "LAYER1_NODE = 500\n",
    "\n",
    "IMAGE_SIZE = 28\n",
    "NUM_CHANNELS = 1\n",
    "NUM_LABELS = 10\n",
    "\n",
    "\"\"\"\n",
    "第一层卷积层的尺寸和深度\n",
    "\"\"\"\n",
    "CONV1_DEEP = 32\n",
    "CONV1_SIZE = 5\n",
    "\n",
    "\"\"\"\n",
    "第二层卷积层的尺寸和深度\n",
    "\"\"\"\n",
    "CONV2_DEEP = 64\n",
    "CONV2_SIZE = 5\n",
    "\n",
    "\"\"\"\n",
    "全连接层的参数(节点个数)\n",
    "\"\"\"\n",
    "FC_SIZE = 512"
   ]
  },
  {
   "cell_type": "markdown",
   "metadata": {},
   "source": [
    "# 定义神经网络\n",
    "1. 定义NN的前向传播过程.    \n",
    "2. 这里添加了一个新的参数`train`,用于区别训练过程和测试过程:因为有些操作在训练时需要,测试时并不需要比如**dropout**  \n",
    "3. 本程序中有**dropout**的使用"
   ]
  },
  {
   "cell_type": "code",
   "execution_count": null,
   "metadata": {
    "collapsed": true
   },
   "outputs": [],
   "source": [
    "def inference(input_tensor, train, regularizer):\n",
    "    \n",
    "    \"\"\"\n",
    "    第一层:卷积层 \n",
    "    input size: 28 * 28 * 1\n",
    "    output size: 28 * 28 * 32\n",
    "    \"\"\"\n",
    "    with tf.variable_scope('layer1-conv1'):\n",
    "        conv1_weights = tf.get(\"weight\",[CONV1_SIZE, CONV1_SIZE, NUM_CHANNELS, CONV1_DEEP],\n",
    "                          initializer = tf.truncated_normal_initializer(stddev=0.1)  )\n",
    "        conv1_bias = tf.get_variable(\"bias\", [CONV1_DEEP],\n",
    "                                    initializer=tf.constant_initializer(0.0))\n",
    "        conv1 = tf.nn.conv2d(input_tensor, conv1_weights, strides=[1,1,1,1],padding=\"SAME\")\n",
    "        relu1 = tf.nn.relu(tf.nn.bias_add(conv1, conv1_bias))\n",
    "        \n",
    "    \"\"\"\n",
    "    第二层:最大池化\n",
    "    input size: 28 * 28 * 32\n",
    "    output size: 14 * 14 * 32\n",
    "    \"\"\"    \n",
    "    with tf.name_scope(\"layer2-pool\"):\n",
    "        pool1 = tf.nn.max_pool(relu1, ksize=[1,2,2,1], strides=[1,2,2,1], padding='SAME')\n",
    "\n",
    "        \n",
    "    \n",
    "    \n",
    "\n",
    "\n",
    "\n",
    "\n",
    "\n",
    "\n",
    "\n",
    "\n",
    "\n",
    "\n",
    "\n",
    "\n",
    "\n",
    "\n"
   ]
  }
 ],
 "metadata": {
  "kernelspec": {
   "display_name": "Python 3",
   "language": "python",
   "name": "python3"
  },
  "language_info": {
   "codemirror_mode": {
    "name": "ipython",
    "version": 3
   },
   "file_extension": ".py",
   "mimetype": "text/x-python",
   "name": "python",
   "nbconvert_exporter": "python",
   "pygments_lexer": "ipython3",
   "version": "3.6.1"
  },
  "toc": {
   "base_numbering": 1,
   "nav_menu": {},
   "number_sections": true,
   "sideBar": true,
   "skip_h1_title": false,
   "title_cell": "Table of Contents",
   "title_sidebar": "Contents",
   "toc_cell": false,
   "toc_position": {},
   "toc_section_display": true,
   "toc_window_display": false
  }
 },
 "nbformat": 4,
 "nbformat_minor": 2
}
