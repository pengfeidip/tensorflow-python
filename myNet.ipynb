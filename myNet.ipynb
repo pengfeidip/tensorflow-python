{
 "cells": [
  {
   "cell_type": "code",
   "execution_count": 1,
   "metadata": {
    "collapsed": true
   },
   "outputs": [],
   "source": [
    "import tensorflow as tf\n",
    "import numpy as np\n",
    "import Ipynb_importer"
   ]
  },
  {
   "cell_type": "code",
   "execution_count": 2,
   "metadata": {
    "collapsed": true
   },
   "outputs": [
    {
     "name": "stdout",
     "output_type": "stream",
     "text": [
      "WARNING:tensorflow:From <ipython-input-2-05ab45eebe5b>:2: read_data_sets (from tensorflow.contrib.learn.python.learn.datasets.mnist) is deprecated and will be removed in a future version.\n",
      "Instructions for updating:\n",
      "Please use alternatives such as official/mnist/dataset.py from tensorflow/models.\n",
      "WARNING:tensorflow:From G:\\Anaconda\\installCatalog\\envs\\tensorflow_cpu\\lib\\site-packages\\tensorflow\\contrib\\learn\\python\\learn\\datasets\\mnist.py:260: maybe_download (from tensorflow.contrib.learn.python.learn.datasets.base) is deprecated and will be removed in a future version.\n",
      "Instructions for updating:\n",
      "Please write your own downloading logic.\n",
      "WARNING:tensorflow:From G:\\Anaconda\\installCatalog\\envs\\tensorflow_cpu\\lib\\site-packages\\tensorflow\\contrib\\learn\\python\\learn\\datasets\\mnist.py:262: extract_images (from tensorflow.contrib.learn.python.learn.datasets.mnist) is deprecated and will be removed in a future version.\n",
      "Instructions for updating:\n",
      "Please use tf.data to implement this functionality.\n",
      "Extracting ./input_data\\train-images-idx3-ubyte.gz\n",
      "WARNING:tensorflow:From G:\\Anaconda\\installCatalog\\envs\\tensorflow_cpu\\lib\\site-packages\\tensorflow\\contrib\\learn\\python\\learn\\datasets\\mnist.py:267: extract_labels (from tensorflow.contrib.learn.python.learn.datasets.mnist) is deprecated and will be removed in a future version.\n",
      "Instructions for updating:\n",
      "Please use tf.data to implement this functionality.\n",
      "Extracting ./input_data\\train-labels-idx1-ubyte.gz\n",
      "WARNING:tensorflow:From G:\\Anaconda\\installCatalog\\envs\\tensorflow_cpu\\lib\\site-packages\\tensorflow\\contrib\\learn\\python\\learn\\datasets\\mnist.py:110: dense_to_one_hot (from tensorflow.contrib.learn.python.learn.datasets.mnist) is deprecated and will be removed in a future version.\n",
      "Instructions for updating:\n",
      "Please use tf.one_hot on tensors.\n",
      "Extracting ./input_data\\t10k-images-idx3-ubyte.gz\n",
      "Extracting ./input_data\\t10k-labels-idx1-ubyte.gz\n",
      "WARNING:tensorflow:From G:\\Anaconda\\installCatalog\\envs\\tensorflow_cpu\\lib\\site-packages\\tensorflow\\contrib\\learn\\python\\learn\\datasets\\mnist.py:290: DataSet.__init__ (from tensorflow.contrib.learn.python.learn.datasets.mnist) is deprecated and will be removed in a future version.\n",
      "Instructions for updating:\n",
      "Please use alternatives such as official/mnist/dataset.py from tensorflow/models.\n"
     ]
    }
   ],
   "source": [
    "from tensorflow.examples.tutorials.mnist import input_data\n",
    "mnist = input_data.read_data_sets('./input_data', one_hot=True, validation_size=500)\n",
    "\n",
    "import matplotlib.pyplot as plt"
   ]
  },
  {
   "cell_type": "markdown",
   "metadata": {
    "heading_collapsed": true
   },
   "source": [
    "# network 设计"
   ]
  },
  {
   "cell_type": "code",
   "execution_count": 3,
   "metadata": {
    "collapsed": true,
    "hidden": true
   },
   "outputs": [],
   "source": [
    "\n",
    "\n",
    "\"\"\"\n",
    "第一层为卷积层, 卷积层_1的参数  \n",
    "input:  filter: \n",
    "        size: 5*5;  number: 6  channel:  1  \n",
    "output: feature map: \n",
    "        size 28*28, number 6; channel :1\n",
    "\"\"\"\n",
    "CONV1_FILTER_SIZE = 5\n",
    "CONV1_FILTER_CHANNEL = 1\n",
    "CONV1_FILTER_NUM = 6\n",
    "\n",
    "\"\"\"\n",
    "第三层为卷积层, 卷积层_3的参数\n",
    "input: filter:\n",
    "       size 5 * 5   number 16 channel: 1\n",
    "output: feature map\n",
    "       size 10 * 10 number 16  channel: 1 \n",
    "       \n",
    "\"\"\"\n",
    "CONV3_FILTER_SIZE = 5\n",
    "CONV3_FILTER_CHANNEL = 1\n",
    "CONV3_FILTER_NUM = 16\n",
    "\n",
    "\"\"\"\n",
    "第五层是一个卷积层, \n",
    "input: filter:\n",
    "        size 5 *5    number 120   channel: 1\n",
    "output: feature map\n",
    "        size 1    number 120  channel: 1\n",
    "\"\"\"\n",
    "CONV5_FILTER_SIZE = 5\n",
    "CONV5_FILTER_CHANNEL = 1\n",
    "CONV5_FILTER_NUM = 120\n",
    "\n",
    "\"\"\"\n",
    "设置一些训练参数\n",
    "\"\"\"\n",
    "BATCH_SIZE = 100;\n",
    "\n",
    "# LeNet_inference\n",
    "\n",
    "def LeNet_inference(inTensor):\n",
    "    \n",
    "    \"\"\"conv 1.  第一层为卷积层,有6个filter\n",
    "    input size: 32 * 32 * 1\n",
    "    output size: 28 * 28 * 6\n",
    "    \"\"\"\n",
    "    conv1_filter = tf.Variable(tf.truncated_normal([CONV1_FILTER_SIZE,CONV1_FILTER_SIZE,CONV1_FILTER_CHANNEL, CONV1_FILTER_NUM],dtype=tf.float32))\n",
    "    conv1 = tf.nn.conv2d(inTensor, conv1_filter, strides=[1, 1, 1, 1], padding='VALID')\n",
    "    conv1_bias = tf.Variable(tf.truncated_normal([CONV1_FILTER_NUM], dtype=tf.float32))\n",
    "    relu_1 = tf.nn.relu(tf.nn.bias_add(conv1, conv1_bias))\n",
    "    \n",
    "    \"\"\"pooling 2.  \n",
    "     第2层为pooling层,与原始LetNet不同.原始的LeNet的pooling层有两个可训练参数\n",
    "     input size: 28 * 28 * 6\n",
    "     output size: 14 * 14 * 6\n",
    "    \"\"\"\n",
    "    pooling2 = tf.nn.avg_pool(relu_1, ksize=[1,2,2,1], strides=[1, 2, 2 ,1], padding=\"VALID\")\n",
    "    relu_2 = tf.nn.relu(pooling2)\n",
    "    \n",
    "    \n",
    "    \"\"\" conv 3  \n",
    "    第3层为卷积层,共16个filter. 与原始LeNet不同,原始的LeNet是部分连接\n",
    "    这里为了方便是,整体连接,详细情况见论文希捷\n",
    "    input size 14 * 14 * 6\n",
    "    out putsize 10 * 10 *16\n",
    "    \"\"\"\n",
    "    conv3_filter = tf.Variable(tf.truncated_normal([5, 5, 6, 16]))\n",
    "    conv3_bias = tf.Variable(tf.truncated_normal([16]))\n",
    "    conv3 = tf.nn.conv2d(relu_2, conv3_filter, strides=[1,1,1,1],padding='VALID')\n",
    "    relu_3 =tf.nn.relu(tf.nn.bias_add(conv3, conv3_bias))\n",
    "    \n",
    "    \n",
    "    \"\"\"pooling 4  \n",
    "    第4层为pooling层, 与pooling 2 相同\n",
    "    input size:  10 * 10 * 16\n",
    "    output size: 5 * 5 * 16\n",
    "    \"\"\"\n",
    "    pooling4 = tf.nn.avg_pool(relu_3, ksize=[1,2,2,1],strides=[1,2,2,1],padding=\"VALID\")\n",
    "    relu_4 = tf.nn.relu(pooling4)\n",
    "    \n",
    "    \"\"\"conv 5\n",
    "    第5层为conv层, 这一层与原始的LeNet-5是一致的\n",
    "    input size: batch size * 5 * 5 * 16\n",
    "    output size: batch size * 1  120\n",
    "    \"\"\"\n",
    "    conv5_filter = tf.Variable(tf.truncated_normal([5, 5, 16, 120]))\n",
    "    conv5_bias = tf.Variable(tf.truncated_normal([120]))\n",
    "    conv5 = tf.nn.conv2d(relu_4, conv5_filter, strides=[1,1,1,1],padding=\"VALID\")\n",
    "    relu_5 = tf.nn.relu(tf.nn.bias_add(conv5, conv5_bias))\n",
    "\n",
    "    relu_5_shaped = tf.reshape(relu_5, [100, 120], name=\"relu_5_reshape\")#relu_5变为 batch size * 120\n",
    "    \n",
    "    \"\"\"fc 6\n",
    "    第6层为fc层,与原始不太一致,因为我只在mnist上进性试验\n",
    "    input size: batch size * 1 * 1 * 120\n",
    "    output size: batch size * 1 * 1 * 10\n",
    "    \"\"\"\n",
    "    \n",
    "    \n",
    "        \n",
    "    fc_weights = tf.Variable(tf.truncated_normal([120,10]))\n",
    "    fc_bias = tf.Variable(tf.truncated_normal([10]))\n",
    "\n",
    "    relu_6 = tf.nn.sigmoid(tf.nn.bias_add(tf.matmul(relu_5_shaped, fc_weights),fc_bias))\n",
    " \n",
    "    \n",
    "    \"\"\"最后的输出单元\n",
    "    softmax分类器\n",
    "    \"\"\"\n",
    "    #logits = tf.nn.softmax(relu_6)\n",
    "    #result = tf.one_hot(tf.argmax(tf.transpose(logits)), 10)\n",
    "    return relu_6\n",
    "    \n",
    "    \n",
    "    \n",
    "    \n",
    "\n",
    "\n",
    "\n"
   ]
  },
  {
   "cell_type": "markdown",
   "metadata": {},
   "source": [
    "# 训练过程设计"
   ]
  },
  {
   "cell_type": "code",
   "execution_count": 4,
   "metadata": {
    "collapsed": true
   },
   "outputs": [],
   "source": [
    "NUM_EPOCH = 50000 #迭代次数、\n",
    "LEARNING_RATE = 0.001  # larning rate\n",
    "\n",
    "\n",
    "x = tf.placeholder(dtype=tf.float32, shape=[BATCH_SIZE, 32, 32, 1],name=\"input\")\n",
    "y_predicted = LeNet_inference(x);\n",
    "y_label = tf.placeholder(dtype=tf.float32, shape=[BATCH_SIZE, 10], name=\"label\")\n",
    "\n",
    "\"\"\"\n",
    "loss function and optimization \n",
    "\n",
    "\"\"\"\n",
    "loss_all = tf.nn.softmax_cross_entropy_with_logits_v2(labels=y_label, logits=y_predicted)\n",
    "loss = tf.reduce_mean(loss_all)\n",
    "train_op = tf.train.GradientDescentOptimizer(LEARNING_RATE).minimize(loss)\n",
    "\n",
    "loss_list = np.array([])"
   ]
  },
  {
   "cell_type": "code",
   "execution_count": 6,
   "metadata": {},
   "outputs": [
    {
     "name": "stdout",
     "output_type": "stream",
     "text": [
      "iteration: 0 / 50000;  loss is 2.438265323638916, training is continuing .....\n",
      "iteration: 500 / 50000;  loss is 2.352630376815796, training is continuing .....\n",
      "iteration: 1000 / 50000;  loss is 2.459686517715454, training is continuing .....\n",
      "iteration: 1500 / 50000;  loss is 2.3713276386260986, training is continuing .....\n",
      "iteration: 2000 / 50000;  loss is 2.3488707542419434, training is continuing .....\n",
      "iteration: 2500 / 50000;  loss is 2.349959373474121, training is continuing .....\n",
      "iteration: 3000 / 50000;  loss is 2.272691011428833, training is continuing .....\n",
      "iteration: 3500 / 50000;  loss is 2.296035051345825, training is continuing .....\n",
      "iteration: 4000 / 50000;  loss is 2.2448253631591797, training is continuing .....\n",
      "iteration: 4500 / 50000;  loss is 2.303722620010376, training is continuing .....\n",
      "iteration: 5000 / 50000;  loss is 2.297419548034668, training is continuing .....\n",
      "iteration: 5500 / 50000;  loss is 2.2092669010162354, training is continuing .....\n",
      "iteration: 6000 / 50000;  loss is 2.2241926193237305, training is continuing .....\n",
      "iteration: 6500 / 50000;  loss is 2.226628303527832, training is continuing .....\n",
      "iteration: 7000 / 50000;  loss is 2.268789052963257, training is continuing .....\n",
      "iteration: 7500 / 50000;  loss is 2.149279832839966, training is continuing .....\n",
      "iteration: 8000 / 50000;  loss is 2.2393546104431152, training is continuing .....\n",
      "iteration: 8500 / 50000;  loss is 2.2949657440185547, training is continuing .....\n",
      "iteration: 9000 / 50000;  loss is 2.206831455230713, training is continuing .....\n",
      "iteration: 9500 / 50000;  loss is 2.274634838104248, training is continuing .....\n",
      "iteration: 10000 / 50000;  loss is 2.233384609222412, training is continuing .....\n",
      "iteration: 10500 / 50000;  loss is 2.1775052547454834, training is continuing .....\n",
      "iteration: 11000 / 50000;  loss is 2.2080295085906982, training is continuing .....\n",
      "iteration: 11500 / 50000;  loss is 2.175523042678833, training is continuing .....\n",
      "iteration: 12000 / 50000;  loss is 2.1862659454345703, training is continuing .....\n",
      "iteration: 12500 / 50000;  loss is 2.2029266357421875, training is continuing .....\n",
      "iteration: 13000 / 50000;  loss is 2.184156894683838, training is continuing .....\n",
      "iteration: 13500 / 50000;  loss is 2.205519437789917, training is continuing .....\n",
      "iteration: 14000 / 50000;  loss is 2.1335861682891846, training is continuing .....\n",
      "iteration: 14500 / 50000;  loss is 2.1476285457611084, training is continuing .....\n",
      "iteration: 15000 / 50000;  loss is 2.1710574626922607, training is continuing .....\n",
      "iteration: 15500 / 50000;  loss is 2.1625185012817383, training is continuing .....\n",
      "iteration: 16000 / 50000;  loss is 2.145123243331909, training is continuing .....\n",
      "iteration: 16500 / 50000;  loss is 2.12998366355896, training is continuing .....\n",
      "iteration: 17000 / 50000;  loss is 2.1833722591400146, training is continuing .....\n",
      "iteration: 17500 / 50000;  loss is 2.1910455226898193, training is continuing .....\n",
      "iteration: 18000 / 50000;  loss is 2.1172351837158203, training is continuing .....\n",
      "iteration: 18500 / 50000;  loss is 2.1554336547851562, training is continuing .....\n",
      "iteration: 19000 / 50000;  loss is 2.1381423473358154, training is continuing .....\n",
      "iteration: 19500 / 50000;  loss is 2.163576602935791, training is continuing .....\n",
      "iteration: 20000 / 50000;  loss is 2.1898915767669678, training is continuing .....\n",
      "iteration: 20500 / 50000;  loss is 2.1606040000915527, training is continuing .....\n",
      "iteration: 21000 / 50000;  loss is 2.098418951034546, training is continuing .....\n",
      "iteration: 21500 / 50000;  loss is 2.0976977348327637, training is continuing .....\n",
      "iteration: 22000 / 50000;  loss is 2.098851442337036, training is continuing .....\n",
      "iteration: 22500 / 50000;  loss is 2.1467673778533936, training is continuing .....\n",
      "iteration: 23000 / 50000;  loss is 2.1211678981781006, training is continuing .....\n",
      "iteration: 23500 / 50000;  loss is 2.104548692703247, training is continuing .....\n",
      "iteration: 24000 / 50000;  loss is 2.1237738132476807, training is continuing .....\n",
      "iteration: 24500 / 50000;  loss is 2.1271414756774902, training is continuing .....\n",
      "iteration: 25000 / 50000;  loss is 2.1154236793518066, training is continuing .....\n",
      "iteration: 25500 / 50000;  loss is 2.1160619258880615, training is continuing .....\n",
      "iteration: 26000 / 50000;  loss is 2.1083567142486572, training is continuing .....\n",
      "iteration: 26500 / 50000;  loss is 2.168123245239258, training is continuing .....\n",
      "iteration: 27000 / 50000;  loss is 2.1120615005493164, training is continuing .....\n",
      "iteration: 27500 / 50000;  loss is 2.083469867706299, training is continuing .....\n",
      "iteration: 28000 / 50000;  loss is 2.076378107070923, training is continuing .....\n",
      "iteration: 28500 / 50000;  loss is 2.117069959640503, training is continuing .....\n",
      "iteration: 29000 / 50000;  loss is 2.0766491889953613, training is continuing .....\n",
      "iteration: 29500 / 50000;  loss is 2.0858278274536133, training is continuing .....\n",
      "iteration: 30000 / 50000;  loss is 2.119236946105957, training is continuing .....\n",
      "iteration: 30500 / 50000;  loss is 2.1082146167755127, training is continuing .....\n",
      "iteration: 31000 / 50000;  loss is 2.0439796447753906, training is continuing .....\n",
      "iteration: 31500 / 50000;  loss is 2.11869215965271, training is continuing .....\n",
      "iteration: 32000 / 50000;  loss is 2.114407539367676, training is continuing .....\n",
      "iteration: 32500 / 50000;  loss is 2.0419368743896484, training is continuing .....\n",
      "iteration: 33000 / 50000;  loss is 2.0239973068237305, training is continuing .....\n",
      "iteration: 33500 / 50000;  loss is 2.0818979740142822, training is continuing .....\n",
      "iteration: 34000 / 50000;  loss is 2.115170478820801, training is continuing .....\n",
      "iteration: 34500 / 50000;  loss is 2.053842067718506, training is continuing .....\n",
      "iteration: 35000 / 50000;  loss is 2.0563580989837646, training is continuing .....\n",
      "iteration: 35500 / 50000;  loss is 2.045897960662842, training is continuing .....\n",
      "iteration: 36000 / 50000;  loss is 2.011021852493286, training is continuing .....\n",
      "iteration: 36500 / 50000;  loss is 2.0781660079956055, training is continuing .....\n",
      "iteration: 37000 / 50000;  loss is 2.0658364295959473, training is continuing .....\n",
      "iteration: 37500 / 50000;  loss is 2.0681583881378174, training is continuing .....\n",
      "iteration: 38000 / 50000;  loss is 2.0166592597961426, training is continuing .....\n",
      "iteration: 38500 / 50000;  loss is 2.0873770713806152, training is continuing .....\n",
      "iteration: 39000 / 50000;  loss is 2.038849353790283, training is continuing .....\n",
      "iteration: 39500 / 50000;  loss is 2.047595262527466, training is continuing .....\n",
      "iteration: 40000 / 50000;  loss is 2.012983798980713, training is continuing .....\n",
      "iteration: 40500 / 50000;  loss is 2.0768563747406006, training is continuing .....\n",
      "iteration: 41000 / 50000;  loss is 2.0900020599365234, training is continuing .....\n",
      "iteration: 41500 / 50000;  loss is 2.081472396850586, training is continuing .....\n",
      "iteration: 42000 / 50000;  loss is 2.0262346267700195, training is continuing .....\n",
      "iteration: 42500 / 50000;  loss is 2.0671486854553223, training is continuing .....\n",
      "iteration: 43000 / 50000;  loss is 2.016308546066284, training is continuing .....\n",
      "iteration: 43500 / 50000;  loss is 2.0206520557403564, training is continuing .....\n",
      "iteration: 44000 / 50000;  loss is 2.030179738998413, training is continuing .....\n",
      "iteration: 44500 / 50000;  loss is 2.039816379547119, training is continuing .....\n",
      "iteration: 45000 / 50000;  loss is 1.9919363260269165, training is continuing .....\n",
      "iteration: 45500 / 50000;  loss is 2.0420730113983154, training is continuing .....\n",
      "iteration: 46000 / 50000;  loss is 2.0192975997924805, training is continuing .....\n",
      "iteration: 46500 / 50000;  loss is 2.002084732055664, training is continuing .....\n",
      "iteration: 47000 / 50000;  loss is 2.0001604557037354, training is continuing .....\n",
      "iteration: 47500 / 50000;  loss is 2.008131504058838, training is continuing .....\n",
      "iteration: 48000 / 50000;  loss is 2.0097227096557617, training is continuing .....\n",
      "iteration: 48500 / 50000;  loss is 2.013374090194702, training is continuing .....\n",
      "iteration: 49000 / 50000;  loss is 1.9754815101623535, training is continuing .....\n"
     ]
    },
    {
     "name": "stdout",
     "output_type": "stream",
     "text": [
      "iteration: 49500 / 50000;  loss is 2.019651412963867, training is continuing .....\n",
      "training is end\n"
     ]
    }
   ],
   "source": [
    "with tf.Session() as sess:\n",
    "    sess.run(tf.global_variables_initializer())\n",
    "    \n",
    "    for i in range(NUM_EPOCH):\n",
    "        xs,ys = mnist.train.next_batch(batch_size=BATCH_SIZE)\n",
    "\n",
    "        #reshape the input \n",
    "        xs.shape = (BATCH_SIZE, 28, 28, 1)\n",
    "        xs = np.pad(xs, ((0, 0), (2, 2), (2, 2), (0, 0)), 'constant', constant_values= 0)\n",
    "\n",
    "        _, loss_np = sess.run([train_op, loss], feed_dict={x:xs, y_label:ys})\n",
    "        if i% 500 == 0:\n",
    "            loss_list = np.append(loss_list,loss_np )\n",
    "            print(\"iteration: {} / {};  loss is {}, training is continuing .....\".format(i, NUM_EPOCH,loss_np))\n",
    "    print(\"training is end\")"
   ]
  },
  {
   "cell_type": "code",
   "execution_count": 7,
   "metadata": {},
   "outputs": [
    {
     "data": {
      "image/png": "[encoded data removed]",
      "text/plain": [
       "<matplotlib.figure.Figure at 0x2c14201b978>"
      ]
     },
     "metadata": {},
     "output_type": "display_data"
    }
   ],
   "source": [
    "plt.plot(loss_list, 'r-')\n",
    "plt.show()"
   ]
  },
  {
   "cell_type": "markdown",
   "metadata": {},
   "source": [
    "# 定义测试模块,统计现有模型的准确率"
   ]
  },
  {
   "cell_type": "markdown",
   "metadata": {},
   "source": [
    "数据集说明:  \n",
    "training dataset : 55000;   test dataset: 10000;  validation dataset: 5000"
   ]
  },
  {
   "cell_type": "code",
   "execution_count": 10,
   "metadata": {},
   "outputs": [],
   "source": [
    "test_x = mnist.test.images\n",
    "test_label = mnist.test.labels\n",
    "test_x.shape = (mnist.test.num_examples, 28, 28, 1)\n",
    "test_shaped = np.pad(test_x, ((0, 0), (2, 2), (2, 2), (0, 0)), 'constant', constant_values = 0);\n",
    "\n",
    "numCorrect = 0;\n",
    "for i_subTest in range(100):\n",
    "    subTest = test_shaped[i_subTest*BATCH_SIZE:(i_subTest+1)*BATCH_SIZE,: ,:, :]\n",
    "    subTest_label = test_label[i_subTest*BATCH_SIZE:(i_subTest+1)*BATCH_SIZE, :]\n",
    "    pred = tf.nn.softmax(LeNet_inference(subTest), axis=0) #prediction from neural networks\n",
    "    assert pred.shape == subTest_label.shape # checkout of predictions' shape\n",
    "    ture_false = tf.equal(tf.argmax(pred, axis=1), tf.argmax(subTest_label, axis=1))\n",
    "    numCorrect += tf.reduce_sum(tf.cast(ture_false, dtype=tf.int32))\n",
    "                                \n",
    "                                \n"
   ]
  },
  {
   "cell_type": "code",
   "execution_count": null,
   "metadata": {},
   "outputs": [],
   "source": [
    "with tf.Session() as sess:   \n",
    "    sess.run(tf.global_variables_initializer())\n",
    "    print(\"正确识别率:\", sess.run(numCorrect)/mnist.test.num_examples)"
   ]
  },
  {
   "cell_type": "code",
   "execution_count": null,
   "metadata": {},
   "outputs": [],
   "source": [
    "%reset"
   ]
  }
 ],
 "metadata": {
  "kernelspec": {
   "display_name": "Python 3",
   "language": "python",
   "name": "python3"
  },
  "language_info": {
   "codemirror_mode": {
    "name": "ipython",
    "version": 3
   },
   "file_extension": ".py",
   "mimetype": "text/x-python",
   "name": "python",
   "nbconvert_exporter": "python",
   "pygments_lexer": "ipython3",
   "version": "3.6.1"
  },
  "toc": {
   "base_numbering": 1,
   "nav_menu": {
    "height": "143px",
    "width": "234px"
   },
   "number_sections": true,
   "sideBar": true,
   "skip_h1_title": false,
   "title_cell": "Table of Contents",
   "title_sidebar": "Contents",
   "toc_cell": false,
   "toc_position": {
    "height": "calc(100% - 180px)",
    "left": "10px",
    "top": "150px",
    "width": "194px"
   },
   "toc_section_display": true,
   "toc_window_display": true
  }
 },
 "nbformat": 4,
 "nbformat_minor": 2
}
