{
 "cells": [
  {
   "cell_type": "code",
   "execution_count": 2,
   "metadata": {},
   "outputs": [
    {
     "name": "stdout",
     "output_type": "stream",
     "text": [
      "1\n",
      "2\n",
      "3\n",
      "4\n",
      "5\n",
      "6\n",
      "7\n",
      "8\n",
      "9\n",
      "10\n",
      "11\n",
      "12\n",
      "13\n",
      "14\n",
      "15\n",
      "16\n",
      "17\n",
      "18\n",
      "19\n"
     ]
    }
   ],
   "source": [
    "for i in range(1, 20):\n",
    "    print(i)"
   ]
  },
  {
   "cell_type": "code",
   "execution_count": 15,
   "metadata": {
    "collapsed": true
   },
   "outputs": [],
   "source": [
    "? tf.multiply"
   ]
  },
  {
   "cell_type": "code",
   "execution_count": 9,
   "metadata": {},
   "outputs": [
    {
     "name": "stdout",
     "output_type": "stream",
     "text": [
      "constat_op_1:0\n"
     ]
    }
   ],
   "source": [
    "print(a.name)"
   ]
  },
  {
   "cell_type": "code",
   "execution_count": 13,
   "metadata": {
    "collapsed": true
   },
   "outputs": [],
   "source": [
    "? tf.get_collection"
   ]
  },
  {
   "cell_type": "code",
   "execution_count": 14,
   "metadata": {},
   "outputs": [
    {
     "name": "stdout",
     "output_type": "stream",
     "text": [
      "Help on function get_collection in module tensorflow.python.framework.ops:\n",
      "\n",
      "get_collection(self, name, scope=None)\n",
      "    Returns a list of values in the collection with the given `name`.\n",
      "    \n",
      "    This is different from `get_collection_ref()` which always returns the\n",
      "    actual collection list if it exists in that it returns a new list each time\n",
      "    it is called.\n",
      "    \n",
      "    Args:\n",
      "      name: The key for the collection. For example, the `GraphKeys` class\n",
      "        contains many standard names for collections.\n",
      "      scope: (Optional.) A string. If supplied, the resulting list is filtered\n",
      "        to include only items whose `name` attribute matches `scope` using\n",
      "        `re.match`. Items without a `name` attribute are never returned if a\n",
      "        scope is supplied. The choice of `re.match` means that a `scope` without\n",
      "        special tokens filters by prefix.\n",
      "    \n",
      "    Returns:\n",
      "      The list of values in the collection with the given `name`, or\n",
      "      an empty list if no value has been added to that collection. The\n",
      "      list contains the values in the order under which they were\n",
      "      collected.\n",
      "\n"
     ]
    }
   ],
   "source": [
    "help(tf.Graph.get_collection)"
   ]
  }
 ],
 "metadata": {
  "kernelspec": {
   "display_name": "Python 3",
   "language": "python",
   "name": "python3"
  },
  "language_info": {
   "codemirror_mode": {
    "name": "ipython",
    "version": 3
   },
   "file_extension": ".py",
   "mimetype": "text/x-python",
   "name": "python",
   "nbconvert_exporter": "python",
   "pygments_lexer": "ipython3",
   "version": "3.6.6"
  },
  "toc": {
   "base_numbering": 1,
   "nav_menu": {},
   "number_sections": true,
   "sideBar": true,
   "skip_h1_title": false,
   "title_cell": "Table of Contents",
   "title_sidebar": "Contents",
   "toc_cell": false,
   "toc_position": {},
   "toc_section_display": true,
   "toc_window_display": false
  }
 },
 "nbformat": 4,
 "nbformat_minor": 2
}
