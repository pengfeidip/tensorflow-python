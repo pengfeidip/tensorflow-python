{
 "cells": [
  {
   "cell_type": "code",
   "execution_count": 1,
   "metadata": {},
   "outputs": [
    {
     "name": "stdout",
     "output_type": "stream",
     "text": [
      "importing Jupyter notebook from myNet_infer.ipynb\n"
     ]
    }
   ],
   "source": [
    "import tensorflow as tf\n",
    "import numpy as np\n",
    "import Ipynb_importer\n",
    "import myNet_infer"
   ]
  },
  {
   "cell_type": "code",
   "execution_count": 2,
   "metadata": {},
   "outputs": [],
   "source": [
    "BATCH_SIZE = 100\n",
    "\n",
    "NUM_EPOCH = 30000 #迭代次数、\n",
    "LEARNING_RATE = 0.01  # larning rate\n",
    "def train_model(mnist):\n",
    "\n",
    "    x = tf.placeholder(dtype=tf.float32, shape=[BATCH_SIZE, 28, 28, 1],name=\"input\")\n",
    "    y_predicted = myNet_infer.LeNet_inference(x)\n",
    "    y_label = tf.placeholder(dtype=tf.float32, shape=[BATCH_SIZE, 10], name=\"label\")\n",
    "\n",
    "    pred_op = tf.multiply(y_predicted, 1, name=\"pred_op\")\n",
    "    \n",
    "    \"\"\"\n",
    "    loss function and optimization \n",
    "\n",
    "    \"\"\"\n",
    "    #result = tf.multiply(y_predicted, 1, name=\"infer\")\n",
    "    loss_all = tf.nn.softmax_cross_entropy_with_logits_v2(labels=y_label, logits=y_predicted)\n",
    "    loss = tf.reduce_mean(loss_all)\n",
    "    train_op = tf.train.GradientDescentOptimizer(LEARNING_RATE).minimize(loss)\n",
    "    \n",
    "    \"\"\"设置, tf最大占用显卡内存比例, 并让gpu自主增长所需要内存: 因为tf正常会自动占有所有内存\"\"\"\n",
    "    config = tf.ConfigProto()\n",
    "    config.gpu_options.per_process_gpu_memory_fraction = 0.7  # 程序最多只能占用指定gpu50%的显存\n",
    "    config.gpu_options.allow_growth = True \n",
    "    \n",
    "    loss_list = np.array([])\n",
    "    import time\n",
    "    #saver = tf.train.Saver()\n",
    "    with tf.Session(config = config) as sess:\n",
    "        sess.run(tf.global_variables_initializer())\n",
    "        start_all = time.time()\n",
    "        \n",
    "        writer = tf.summary.FileWriter(\"D:/tensorboard\")\n",
    "        writer.add_graph(sess.graph)\n",
    "        \n",
    "        for i in range(NUM_EPOCH):\n",
    "            \n",
    "            xs,ys = mnist.train.next_batch(batch_size=BATCH_SIZE) #batch gradient descent\n",
    "            xs.shape = (BATCH_SIZE, 28, 28, 1) #reshape the input \n",
    "\n",
    "            _, loss_np = sess.run([train_op, loss], feed_dict={x:xs, y_label:ys})\n",
    "            \n",
    "            if i% 1000 == 0:\n",
    "                loss_list = np.append(loss_list,loss_np )\n",
    "                end = time.time()\n",
    "                print(\"iteration: {} / {};  loss is {}, learning rate is {} .....\".format(i, NUM_EPOCH,loss_np, LEARNING_RATE))\n",
    "                print( \"共用时: \", end - start_all)\n",
    "                #saver.save(sess, \"./model_param/model.ckpt\",global_step = i)\n",
    "\n",
    "        print(\"training is end\")\n",
    "        return"
   ]
  },
  {
   "cell_type": "code",
   "execution_count": 1,
   "metadata": {},
   "outputs": [],
   "source": [
    "def read_date():\n",
    "    from tensorflow.examples.tutorials.mnist import input_data\n",
    "    mnist = input_data.read_data_sets('./input_data', one_hot=True, validation_size=500)\n",
    "    return mnist"
   ]
  },
  {
   "cell_type": "code",
   "execution_count": 4,
   "metadata": {
    "collapsed": true
   },
   "outputs": [
    {
     "name": "stdout",
     "output_type": "stream",
     "text": [
      "WARNING:tensorflow:From <ipython-input-3-c6b80f814b4d>:3: read_data_sets (from tensorflow.contrib.learn.python.learn.datasets.mnist) is deprecated and will be removed in a future version.\n",
      "Instructions for updating:\n",
      "Please use alternatives such as official/mnist/dataset.py from tensorflow/models.\n",
      "WARNING:tensorflow:From G:\\Anaconda\\installCatalog\\envs\\tensorflow_gpu\\lib\\site-packages\\tensorflow\\contrib\\learn\\python\\learn\\datasets\\mnist.py:260: maybe_download (from tensorflow.contrib.learn.python.learn.datasets.base) is deprecated and will be removed in a future version.\n",
      "Instructions for updating:\n",
      "Please write your own downloading logic.\n",
      "WARNING:tensorflow:From G:\\Anaconda\\installCatalog\\envs\\tensorflow_gpu\\lib\\site-packages\\tensorflow\\contrib\\learn\\python\\learn\\datasets\\mnist.py:262: extract_images (from tensorflow.contrib.learn.python.learn.datasets.mnist) is deprecated and will be removed in a future version.\n",
      "Instructions for updating:\n",
      "Please use tf.data to implement this functionality.\n",
      "Extracting ./input_data\\train-images-idx3-ubyte.gz\n",
      "WARNING:tensorflow:From G:\\Anaconda\\installCatalog\\envs\\tensorflow_gpu\\lib\\site-packages\\tensorflow\\contrib\\learn\\python\\learn\\datasets\\mnist.py:267: extract_labels (from tensorflow.contrib.learn.python.learn.datasets.mnist) is deprecated and will be removed in a future version.\n",
      "Instructions for updating:\n",
      "Please use tf.data to implement this functionality.\n",
      "Extracting ./input_data\\train-labels-idx1-ubyte.gz\n",
      "WARNING:tensorflow:From G:\\Anaconda\\installCatalog\\envs\\tensorflow_gpu\\lib\\site-packages\\tensorflow\\contrib\\learn\\python\\learn\\datasets\\mnist.py:110: dense_to_one_hot (from tensorflow.contrib.learn.python.learn.datasets.mnist) is deprecated and will be removed in a future version.\n",
      "Instructions for updating:\n",
      "Please use tf.one_hot on tensors.\n",
      "Extracting ./input_data\\t10k-images-idx3-ubyte.gz\n",
      "Extracting ./input_data\\t10k-labels-idx1-ubyte.gz\n",
      "WARNING:tensorflow:From G:\\Anaconda\\installCatalog\\envs\\tensorflow_gpu\\lib\\site-packages\\tensorflow\\contrib\\learn\\python\\learn\\datasets\\mnist.py:290: DataSet.__init__ (from tensorflow.contrib.learn.python.learn.datasets.mnist) is deprecated and will be removed in a future version.\n",
      "Instructions for updating:\n",
      "Please use alternatives such as official/mnist/dataset.py from tensorflow/models.\n",
      "iteration: 0 / 30000;  loss is 13.805463790893555, learning rate is 0.01 .....\n",
      "共用时:  1.9845523834228516\n",
      "iteration: 1000 / 30000;  loss is 0.08461040258407593, learning rate is 0.01 .....\n",
      "共用时:  6.591273069381714\n",
      "iteration: 2000 / 30000;  loss is 0.04987189173698425, learning rate is 0.01 .....\n",
      "共用时:  11.225013017654419\n",
      "iteration: 3000 / 30000;  loss is 0.06665857136249542, learning rate is 0.01 .....\n",
      "共用时:  15.920677185058594\n",
      "iteration: 4000 / 30000;  loss is 0.10080156475305557, learning rate is 0.01 .....\n",
      "共用时:  20.59738516807556\n",
      "iteration: 5000 / 30000;  loss is 0.05630519986152649, learning rate is 0.01 .....\n",
      "共用时:  25.392848253250122\n",
      "iteration: 6000 / 30000;  loss is 0.027670245617628098, learning rate is 0.01 .....\n",
      "共用时:  30.147459506988525\n",
      "iteration: 7000 / 30000;  loss is 0.033202163875103, learning rate is 0.01 .....\n",
      "共用时:  34.818540811538696\n",
      "iteration: 8000 / 30000;  loss is 0.016901962459087372, learning rate is 0.01 .....\n",
      "共用时:  39.59206986427307\n",
      "iteration: 9000 / 30000;  loss is 0.0657438337802887, learning rate is 0.01 .....\n",
      "共用时:  44.34705471992493\n",
      "iteration: 10000 / 30000;  loss is 0.049730926752090454, learning rate is 0.01 .....\n",
      "共用时:  48.999414682388306\n",
      "iteration: 11000 / 30000;  loss is 0.022312836721539497, learning rate is 0.01 .....\n",
      "共用时:  53.77211308479309\n",
      "iteration: 12000 / 30000;  loss is 0.2632814645767212, learning rate is 0.01 .....\n",
      "共用时:  58.51396703720093\n",
      "iteration: 13000 / 30000;  loss is 0.05109868198633194, learning rate is 0.01 .....\n",
      "共用时:  63.1707398891449\n",
      "iteration: 14000 / 30000;  loss is 0.035841308534145355, learning rate is 0.01 .....\n",
      "共用时:  67.94083595275879\n",
      "iteration: 15000 / 30000;  loss is 0.010877825319766998, learning rate is 0.01 .....\n",
      "共用时:  72.70542502403259\n",
      "iteration: 16000 / 30000;  loss is 0.02861175127327442, learning rate is 0.01 .....\n",
      "共用时:  77.33256983757019\n",
      "iteration: 17000 / 30000;  loss is 0.008949696086347103, learning rate is 0.01 .....\n",
      "共用时:  82.05327677726746\n",
      "iteration: 18000 / 30000;  loss is 0.0275209192186594, learning rate is 0.01 .....\n",
      "共用时:  86.7089250087738\n",
      "iteration: 19000 / 30000;  loss is 0.014752681367099285, learning rate is 0.01 .....\n",
      "共用时:  91.25368857383728\n",
      "iteration: 20000 / 30000;  loss is 0.07817103713750839, learning rate is 0.01 .....\n",
      "共用时:  95.9482057094574\n",
      "iteration: 21000 / 30000;  loss is 0.008396507240831852, learning rate is 0.01 .....\n",
      "共用时:  100.83721876144409\n",
      "iteration: 22000 / 30000;  loss is 0.017396491020917892, learning rate is 0.01 .....\n",
      "共用时:  105.57784032821655\n",
      "iteration: 23000 / 30000;  loss is 0.011998452246189117, learning rate is 0.01 .....\n",
      "共用时:  110.35879373550415\n",
      "iteration: 24000 / 30000;  loss is 0.0028356192633509636, learning rate is 0.01 .....\n",
      "共用时:  115.1327052116394\n",
      "iteration: 25000 / 30000;  loss is 0.016478970646858215, learning rate is 0.01 .....\n",
      "共用时:  119.90195846557617\n",
      "iteration: 26000 / 30000;  loss is 0.011404032818973064, learning rate is 0.01 .....\n",
      "共用时:  124.5576331615448\n",
      "iteration: 27000 / 30000;  loss is 0.005449594929814339, learning rate is 0.01 .....\n",
      "共用时:  129.35619711875916\n",
      "iteration: 28000 / 30000;  loss is 0.009976191446185112, learning rate is 0.01 .....\n",
      "共用时:  134.11425113677979\n",
      "iteration: 29000 / 30000;  loss is 0.028567150235176086, learning rate is 0.01 .....\n",
      "共用时:  138.7719202041626\n",
      "training is end\n"
     ]
    },
    {
     "ename": "SystemExit",
     "evalue": "",
     "output_type": "error",
     "traceback": [
      "An exception has occurred, use %tb to see the full traceback.\n",
      "\u001b[1;31mSystemExit\u001b[0m\n"
     ]
    },
    {
     "name": "stderr",
     "output_type": "stream",
     "text": [
      "G:\\Anaconda\\installCatalog\\envs\\tensorflow_gpu\\lib\\site-packages\\IPython\\core\\interactiveshell.py:2969: UserWarning: To exit: use 'exit', 'quit', or Ctrl-D.\n",
      "  warn(\"To exit: use 'exit', 'quit', or Ctrl-D.\", stacklevel=1)\n"
     ]
    }
   ],
   "source": [
    "def main(argv = None):\n",
    "    mnist = read_date()\n",
    "    train_model(mnist)\n",
    "\n",
    "if __name__ == \"__main__\":\n",
    "    tf.app.run()"
   ]
  },
  {
   "cell_type": "code",
   "execution_count": 2,
   "metadata": {
    "collapsed": true
   },
   "outputs": [
    {
     "name": "stdout",
     "output_type": "stream",
     "text": [
      "WARNING:tensorflow:From <ipython-input-1-c6b80f814b4d>:3: read_data_sets (from tensorflow.contrib.learn.python.learn.datasets.mnist) is deprecated and will be removed in a future version.\n",
      "Instructions for updating:\n",
      "Please use alternatives such as official/mnist/dataset.py from tensorflow/models.\n",
      "WARNING:tensorflow:From G:\\Anaconda\\installCatalog\\envs\\tensorflow_gpu\\lib\\site-packages\\tensorflow\\contrib\\learn\\python\\learn\\datasets\\mnist.py:260: maybe_download (from tensorflow.contrib.learn.python.learn.datasets.base) is deprecated and will be removed in a future version.\n",
      "Instructions for updating:\n",
      "Please write your own downloading logic.\n",
      "WARNING:tensorflow:From G:\\Anaconda\\installCatalog\\envs\\tensorflow_gpu\\lib\\site-packages\\tensorflow\\contrib\\learn\\python\\learn\\datasets\\mnist.py:262: extract_images (from tensorflow.contrib.learn.python.learn.datasets.mnist) is deprecated and will be removed in a future version.\n",
      "Instructions for updating:\n",
      "Please use tf.data to implement this functionality.\n",
      "Extracting ./input_data\\train-images-idx3-ubyte.gz\n",
      "WARNING:tensorflow:From G:\\Anaconda\\installCatalog\\envs\\tensorflow_gpu\\lib\\site-packages\\tensorflow\\contrib\\learn\\python\\learn\\datasets\\mnist.py:267: extract_labels (from tensorflow.contrib.learn.python.learn.datasets.mnist) is deprecated and will be removed in a future version.\n",
      "Instructions for updating:\n",
      "Please use tf.data to implement this functionality.\n",
      "Extracting ./input_data\\train-labels-idx1-ubyte.gz\n",
      "WARNING:tensorflow:From G:\\Anaconda\\installCatalog\\envs\\tensorflow_gpu\\lib\\site-packages\\tensorflow\\contrib\\learn\\python\\learn\\datasets\\mnist.py:110: dense_to_one_hot (from tensorflow.contrib.learn.python.learn.datasets.mnist) is deprecated and will be removed in a future version.\n",
      "Instructions for updating:\n",
      "Please use tf.one_hot on tensors.\n",
      "Extracting ./input_data\\t10k-images-idx3-ubyte.gz\n",
      "Extracting ./input_data\\t10k-labels-idx1-ubyte.gz\n",
      "WARNING:tensorflow:From G:\\Anaconda\\installCatalog\\envs\\tensorflow_gpu\\lib\\site-packages\\tensorflow\\contrib\\learn\\python\\learn\\datasets\\mnist.py:290: DataSet.__init__ (from tensorflow.contrib.learn.python.learn.datasets.mnist) is deprecated and will be removed in a future version.\n",
      "Instructions for updating:\n",
      "Please use alternatives such as official/mnist/dataset.py from tensorflow/models.\n"
     ]
    }
   ],
   "source": [
    "mnist = read_date()"
   ]
  },
  {
   "cell_type": "code",
   "execution_count": 4,
   "metadata": {},
   "outputs": [],
   "source": [
    "import tensorflow as tf"
   ]
  },
  {
   "cell_type": "code",
   "execution_count": 5,
   "metadata": {},
   "outputs": [],
   "source": [
    "dataset = tf.data.Dataset.from_tensor_slices((mnist.validation.images, mnist.validation.labels))"
   ]
  },
  {
   "cell_type": "code",
   "execution_count": 10,
   "metadata": {},
   "outputs": [
    {
     "name": "stdout",
     "output_type": "stream",
     "text": [
      "(TensorShape([Dimension(784)]), TensorShape([Dimension(10)]))\n"
     ]
    }
   ],
   "source": [
    "print(dataset.output_shapes)"
   ]
  }
 ],
 "metadata": {
  "kernelspec": {
   "display_name": "Python 3",
   "language": "python",
   "name": "python3"
  },
  "language_info": {
   "codemirror_mode": {
    "name": "ipython",
    "version": 3
   },
   "file_extension": ".py",
   "mimetype": "text/x-python",
   "name": "python",
   "nbconvert_exporter": "python",
   "pygments_lexer": "ipython3",
   "version": "3.6.6"
  },
  "toc": {
   "base_numbering": 1,
   "nav_menu": {},
   "number_sections": true,
   "sideBar": true,
   "skip_h1_title": false,
   "title_cell": "Table of Contents",
   "title_sidebar": "Contents",
   "toc_cell": false,
   "toc_position": {},
   "toc_section_display": true,
   "toc_window_display": false
  }
 },
 "nbformat": 4,
 "nbformat_minor": 2
}
