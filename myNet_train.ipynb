{
 "cells": [
  {
   "cell_type": "code",
   "execution_count": 1,
   "metadata": {},
   "outputs": [
    {
     "name": "stdout",
     "output_type": "stream",
     "text": [
      "importing Jupyter notebook from myNet_infer.ipynb\n"
     ]
    }
   ],
   "source": [
    "import tensorflow as tf\n",
    "import numpy as np\n",
    "import Ipynb_importer\n",
    "import myNet_infer"
   ]
  },
  {
   "cell_type": "code",
   "execution_count": 2,
   "metadata": {},
   "outputs": [],
   "source": [
    "BATCH_SIZE = 100\n",
    "\n",
    "NUM_EPOCH = 10000 #迭代次数、\n",
    "LEARNING_RATE = 0.001  # larning rate\n",
    "def train_model(mnist):\n",
    "\n",
    "    x = tf.placeholder(dtype=tf.float32, shape=[BATCH_SIZE, 28, 28, 1],name=\"input\")\n",
    "    y_predicted = myNet_infer.LeNet_inference(x)\n",
    "    y_label = tf.placeholder(dtype=tf.float32, shape=[BATCH_SIZE, 10], name=\"label\")\n",
    "\n",
    "    \"\"\"\n",
    "    loss function and optimization \n",
    "\n",
    "    \"\"\"\n",
    "    #result = tf.multiply(y_predicted, 1, name=\"infer\")\n",
    "    loss_all = tf.nn.softmax_cross_entropy_with_logits_v2(labels=y_label, logits=y_predicted)\n",
    "    loss = tf.reduce_mean(loss_all)\n",
    "    train_op = tf.train.GradientDescentOptimizer(LEARNING_RATE).minimize(loss)\n",
    "    \n",
    "    \"\"\"设置, tf最大占用显卡内存比例, 并让gpu自主增长所需要内存: 因为tf正常会自动占有所有内存\"\"\"\n",
    "    config = tf.ConfigProto()\n",
    "    config.gpu_options.per_process_gpu_memory_fraction = 0.7  # 程序最多只能占用指定gpu50%的显存\n",
    "    config.gpu_options.allow_growth = True \n",
    "    \n",
    "    loss_list = np.array([])\n",
    "    import time\n",
    "    saver = tf.train.Saver()\n",
    "    with tf.Session(config = config) as sess:\n",
    "        sess.run(tf.global_variables_initializer())\n",
    "        start_all = time.time()\n",
    "        \n",
    "        for i in range(NUM_EPOCH):\n",
    "            \n",
    "            xs,ys = mnist.train.next_batch(batch_size=BATCH_SIZE) #batch gradient descent\n",
    "            xs.shape = (BATCH_SIZE, 28, 28, 1) #reshape the input \n",
    "\n",
    "            _, loss_np = sess.run([train_op, loss], feed_dict={x:xs, y_label:ys})\n",
    "            \n",
    "            if i% 500 == 0:\n",
    "                loss_list = np.append(loss_list,loss_np )\n",
    "                end = time.time()\n",
    "                print(\"iteration: {} / {};  loss is {}, learning rate is {} .....\".format(i, NUM_EPOCH,loss_np, LEARNING_RATE))\n",
    "                print( \"共用时: \", end - start_all)\n",
    "                saver.save(sess, \"./model_param/model.ckpt\",global_step = i)\n",
    "\n",
    "        print(\"training is end\")\n",
    "        return"
   ]
  },
  {
   "cell_type": "code",
   "execution_count": 3,
   "metadata": {},
   "outputs": [],
   "source": [
    "def read_date():\n",
    "    from tensorflow.examples.tutorials.mnist import input_data\n",
    "    mnist = input_data.read_data_sets('./input_data', one_hot=True, validation_size=500)\n",
    "    return mnist"
   ]
  },
  {
   "cell_type": "code",
   "execution_count": 4,
   "metadata": {},
   "outputs": [
    {
     "name": "stdout",
     "output_type": "stream",
     "text": [
      "WARNING:tensorflow:From <ipython-input-3-c6b80f814b4d>:3: read_data_sets (from tensorflow.contrib.learn.python.learn.datasets.mnist) is deprecated and will be removed in a future version.\n",
      "Instructions for updating:\n",
      "Please use alternatives such as official/mnist/dataset.py from tensorflow/models.\n",
      "WARNING:tensorflow:From G:\\Anaconda\\installCatalog\\envs\\tensorflow_gpu\\lib\\site-packages\\tensorflow\\contrib\\learn\\python\\learn\\datasets\\mnist.py:260: maybe_download (from tensorflow.contrib.learn.python.learn.datasets.base) is deprecated and will be removed in a future version.\n",
      "Instructions for updating:\n",
      "Please write your own downloading logic.\n",
      "WARNING:tensorflow:From G:\\Anaconda\\installCatalog\\envs\\tensorflow_gpu\\lib\\site-packages\\tensorflow\\contrib\\learn\\python\\learn\\datasets\\mnist.py:262: extract_images (from tensorflow.contrib.learn.python.learn.datasets.mnist) is deprecated and will be removed in a future version.\n",
      "Instructions for updating:\n",
      "Please use tf.data to implement this functionality.\n",
      "Extracting ./input_data\\train-images-idx3-ubyte.gz\n",
      "WARNING:tensorflow:From G:\\Anaconda\\installCatalog\\envs\\tensorflow_gpu\\lib\\site-packages\\tensorflow\\contrib\\learn\\python\\learn\\datasets\\mnist.py:267: extract_labels (from tensorflow.contrib.learn.python.learn.datasets.mnist) is deprecated and will be removed in a future version.\n",
      "Instructions for updating:\n",
      "Please use tf.data to implement this functionality.\n",
      "Extracting ./input_data\\train-labels-idx1-ubyte.gz\n",
      "WARNING:tensorflow:From G:\\Anaconda\\installCatalog\\envs\\tensorflow_gpu\\lib\\site-packages\\tensorflow\\contrib\\learn\\python\\learn\\datasets\\mnist.py:110: dense_to_one_hot (from tensorflow.contrib.learn.python.learn.datasets.mnist) is deprecated and will be removed in a future version.\n",
      "Instructions for updating:\n",
      "Please use tf.one_hot on tensors.\n",
      "Extracting ./input_data\\t10k-images-idx3-ubyte.gz\n",
      "Extracting ./input_data\\t10k-labels-idx1-ubyte.gz\n",
      "WARNING:tensorflow:From G:\\Anaconda\\installCatalog\\envs\\tensorflow_gpu\\lib\\site-packages\\tensorflow\\contrib\\learn\\python\\learn\\datasets\\mnist.py:290: DataSet.__init__ (from tensorflow.contrib.learn.python.learn.datasets.mnist) is deprecated and will be removed in a future version.\n",
      "Instructions for updating:\n",
      "Please use alternatives such as official/mnist/dataset.py from tensorflow/models.\n",
      "iteration: 0 / 10000;  loss is 36872.03125, learning rate is 0.001 .....\n",
      "共用时:  1.1256756782531738\n",
      "iteration: 500 / 10000;  loss is 4.618486404418945, learning rate is 0.001 .....\n",
      "共用时:  3.8593950271606445\n",
      "iteration: 1000 / 10000;  loss is 4.113704204559326, learning rate is 0.001 .....\n",
      "共用时:  6.559526681900024\n",
      "iteration: 1500 / 10000;  loss is 2.580421209335327, learning rate is 0.001 .....\n",
      "共用时:  9.21549940109253\n",
      "iteration: 2000 / 10000;  loss is 2.3482444286346436, learning rate is 0.001 .....\n",
      "共用时:  11.884759187698364\n",
      "iteration: 2500 / 10000;  loss is 2.314328908920288, learning rate is 0.001 .....\n",
      "共用时:  14.613583326339722\n",
      "iteration: 3000 / 10000;  loss is 2.390333414077759, learning rate is 0.001 .....\n",
      "共用时:  17.322725772857666\n",
      "iteration: 3500 / 10000;  loss is 2.4325008392333984, learning rate is 0.001 .....\n",
      "共用时:  19.997709035873413\n",
      "iteration: 4000 / 10000;  loss is 2.3245344161987305, learning rate is 0.001 .....\n",
      "共用时:  22.700753688812256\n",
      "iteration: 4500 / 10000;  loss is 2.527729034423828, learning rate is 0.001 .....\n",
      "共用时:  25.48749876022339\n",
      "iteration: 5000 / 10000;  loss is 2.489278793334961, learning rate is 0.001 .....\n",
      "共用时:  28.161034107208252\n",
      "iteration: 5500 / 10000;  loss is 2.3054184913635254, learning rate is 0.001 .....\n",
      "共用时:  30.901817560195923\n",
      "iteration: 6000 / 10000;  loss is 2.3540682792663574, learning rate is 0.001 .....\n",
      "共用时:  33.607901096343994\n",
      "iteration: 6500 / 10000;  loss is 2.4325766563415527, learning rate is 0.001 .....\n",
      "共用时:  36.160470724105835\n",
      "iteration: 7000 / 10000;  loss is 2.3520970344543457, learning rate is 0.001 .....\n",
      "共用时:  38.87137532234192\n",
      "iteration: 7500 / 10000;  loss is 2.443270206451416, learning rate is 0.001 .....\n",
      "共用时:  41.657373905181885\n",
      "iteration: 8000 / 10000;  loss is 2.3137707710266113, learning rate is 0.001 .....\n",
      "共用时:  44.35011553764343\n",
      "iteration: 8500 / 10000;  loss is 2.314944267272949, learning rate is 0.001 .....\n",
      "共用时:  47.14215064048767\n",
      "iteration: 9000 / 10000;  loss is 2.327807903289795, learning rate is 0.001 .....\n",
      "共用时:  49.828274726867676\n",
      "iteration: 9500 / 10000;  loss is 2.339855194091797, learning rate is 0.001 .....\n",
      "共用时:  52.52081608772278\n",
      "training is end\n"
     ]
    },
    {
     "ename": "SystemExit",
     "evalue": "",
     "output_type": "error",
     "traceback": [
      "An exception has occurred, use %tb to see the full traceback.\n",
      "\u001b[1;31mSystemExit\u001b[0m\n"
     ]
    },
    {
     "name": "stderr",
     "output_type": "stream",
     "text": [
      "G:\\Anaconda\\installCatalog\\envs\\tensorflow_gpu\\lib\\site-packages\\IPython\\core\\interactiveshell.py:2969: UserWarning: To exit: use 'exit', 'quit', or Ctrl-D.\n",
      "  warn(\"To exit: use 'exit', 'quit', or Ctrl-D.\", stacklevel=1)\n"
     ]
    }
   ],
   "source": [
    "def main(argv = None):\n",
    "    mnist = read_date()\n",
    "    train_model(mnist)\n",
    "\n",
    "if __name__ == \"__main__\":\n",
    "    tf.app.run()"
   ]
  },
  {
   "cell_type": "code",
   "execution_count": 5,
   "metadata": {},
   "outputs": [
    {
     "ename": "SystemExit",
     "evalue": "",
     "output_type": "error",
     "traceback": [
      "\u001b[1;31m---------------------------------------------------------------------------\u001b[0m",
      "\u001b[1;31mSystemExit\u001b[0m                                Traceback (most recent call last)",
      "\u001b[1;32m<ipython-input-4-b22ba57da8a8>\u001b[0m in \u001b[0;36m<module>\u001b[1;34m()\u001b[0m\n\u001b[0;32m      4\u001b[0m \u001b[1;33m\u001b[0m\u001b[0m\n\u001b[0;32m      5\u001b[0m \u001b[1;32mif\u001b[0m \u001b[0m__name__\u001b[0m \u001b[1;33m==\u001b[0m \u001b[1;34m\"__main__\"\u001b[0m\u001b[1;33m:\u001b[0m\u001b[1;33m\u001b[0m\u001b[0m\n\u001b[1;32m----> 6\u001b[1;33m     \u001b[0mtf\u001b[0m\u001b[1;33m.\u001b[0m\u001b[0mapp\u001b[0m\u001b[1;33m.\u001b[0m\u001b[0mrun\u001b[0m\u001b[1;33m(\u001b[0m\u001b[1;33m)\u001b[0m\u001b[1;33m\u001b[0m\u001b[0m\n\u001b[0m",
      "\u001b[1;32mG:\\Anaconda\\installCatalog\\envs\\tensorflow_gpu\\lib\\site-packages\\tensorflow\\python\\platform\\app.py\u001b[0m in \u001b[0;36mrun\u001b[1;34m(main, argv)\u001b[0m\n\u001b[0;32m    123\u001b[0m   \u001b[1;31m# Call the main function, passing through any arguments\u001b[0m\u001b[1;33m\u001b[0m\u001b[1;33m\u001b[0m\u001b[0m\n\u001b[0;32m    124\u001b[0m   \u001b[1;31m# to the final program.\u001b[0m\u001b[1;33m\u001b[0m\u001b[1;33m\u001b[0m\u001b[0m\n\u001b[1;32m--> 125\u001b[1;33m   \u001b[0m_sys\u001b[0m\u001b[1;33m.\u001b[0m\u001b[0mexit\u001b[0m\u001b[1;33m(\u001b[0m\u001b[0mmain\u001b[0m\u001b[1;33m(\u001b[0m\u001b[0margv\u001b[0m\u001b[1;33m)\u001b[0m\u001b[1;33m)\u001b[0m\u001b[1;33m\u001b[0m\u001b[0m\n\u001b[0m\u001b[0;32m    126\u001b[0m \u001b[1;33m\u001b[0m\u001b[0m\n",
      "\u001b[1;31mSystemExit\u001b[0m: "
     ]
    }
   ],
   "source": [
    "%tb"
   ]
  },
  {
   "cell_type": "code",
   "execution_count": null,
   "metadata": {},
   "outputs": [],
   "source": []
  },
  {
   "cell_type": "code",
   "execution_count": null,
   "metadata": {},
   "outputs": [],
   "source": []
  },
  {
   "cell_type": "code",
   "execution_count": null,
   "metadata": {},
   "outputs": [],
   "source": []
  }
 ],
 "metadata": {
  "kernelspec": {
   "display_name": "Python 3",
   "language": "python",
   "name": "python3"
  },
  "language_info": {
   "codemirror_mode": {
    "name": "ipython",
    "version": 3
   },
   "file_extension": ".py",
   "mimetype": "text/x-python",
   "name": "python",
   "nbconvert_exporter": "python",
   "pygments_lexer": "ipython3",
   "version": "3.6.6"
  },
  "toc": {
   "base_numbering": 1,
   "nav_menu": {},
   "number_sections": true,
   "sideBar": true,
   "skip_h1_title": false,
   "title_cell": "Table of Contents",
   "title_sidebar": "Contents",
   "toc_cell": false,
   "toc_position": {},
   "toc_section_display": true,
   "toc_window_display": false
  }
 },
 "nbformat": 4,
 "nbformat_minor": 2
}
